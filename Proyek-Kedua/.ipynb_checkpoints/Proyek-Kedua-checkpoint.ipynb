{
 "cells": [
  {
   "cell_type": "code",
   "execution_count": 110,
   "id": "25520f98",
   "metadata": {},
   "outputs": [],
   "source": [
    "import pickle\n",
    "import numpy as np\n",
    "import pandas as pd\n",
    "import tensorflow as tf\n",
    "\n",
    "import matplotlib.pyplot as plt\n",
    "\n",
    "from tensorflow import keras\n",
    "from sklearn.model_selection import StratifiedShuffleSplit"
   ]
  },
  {
   "cell_type": "markdown",
   "id": "c9f4c076",
   "metadata": {},
   "source": [
    "# Understanding Data\n",
    "\n",
    "Memahami data ini bertujuan untuk mendapatkan insight-insight baru terhadap data."
   ]
  },
  {
   "cell_type": "code",
   "execution_count": 2,
   "id": "61c5bf7a",
   "metadata": {},
   "outputs": [],
   "source": [
    "anime_df = pd.read_csv(\"dataset/anime.csv\")\n",
    "rating_df = pd.read_csv(\"dataset/rating.csv\")"
   ]
  },
  {
   "cell_type": "markdown",
   "id": "ff52a86c",
   "metadata": {},
   "source": [
    "## Deskripsi Data\n",
    "\n",
    "Pada file Anime.csv, terdapat variabel-variabel sebagai berikut:\n",
    "\n",
    "- anime_id : Merupakan identifier unik film anime.\n",
    "- name : Merupakan judul lengkap anime.\n",
    "- genre : Merupakan genre anime.\n",
    "- type : Merupakan jenis anime (OVA, TV, Movie).\n",
    "- episodes : Merupakan jumlah episode anime tersebut.\n",
    "- rating : Merupakan rerata nilai yang didapatkan anime tersebut.\n",
    "- members : Jumlah anggota yang berada pada \"grup\" anime tersebut."
   ]
  },
  {
   "cell_type": "code",
   "execution_count": 3,
   "id": "4b7c0059",
   "metadata": {},
   "outputs": [
    {
     "data": {
      "text/html": [
       "<div>\n",
       "<style scoped>\n",
       "    .dataframe tbody tr th:only-of-type {\n",
       "        vertical-align: middle;\n",
       "    }\n",
       "\n",
       "    .dataframe tbody tr th {\n",
       "        vertical-align: top;\n",
       "    }\n",
       "\n",
       "    .dataframe thead th {\n",
       "        text-align: right;\n",
       "    }\n",
       "</style>\n",
       "<table border=\"1\" class=\"dataframe\">\n",
       "  <thead>\n",
       "    <tr style=\"text-align: right;\">\n",
       "      <th></th>\n",
       "      <th>anime_id</th>\n",
       "      <th>name</th>\n",
       "      <th>genre</th>\n",
       "      <th>type</th>\n",
       "      <th>episodes</th>\n",
       "      <th>rating</th>\n",
       "      <th>members</th>\n",
       "    </tr>\n",
       "  </thead>\n",
       "  <tbody>\n",
       "    <tr>\n",
       "      <th>0</th>\n",
       "      <td>32281</td>\n",
       "      <td>Kimi no Na wa.</td>\n",
       "      <td>Drama, Romance, School, Supernatural</td>\n",
       "      <td>Movie</td>\n",
       "      <td>1</td>\n",
       "      <td>9.37</td>\n",
       "      <td>200630</td>\n",
       "    </tr>\n",
       "    <tr>\n",
       "      <th>1</th>\n",
       "      <td>5114</td>\n",
       "      <td>Fullmetal Alchemist: Brotherhood</td>\n",
       "      <td>Action, Adventure, Drama, Fantasy, Magic, Mili...</td>\n",
       "      <td>TV</td>\n",
       "      <td>64</td>\n",
       "      <td>9.26</td>\n",
       "      <td>793665</td>\n",
       "    </tr>\n",
       "    <tr>\n",
       "      <th>2</th>\n",
       "      <td>28977</td>\n",
       "      <td>Gintama°</td>\n",
       "      <td>Action, Comedy, Historical, Parody, Samurai, S...</td>\n",
       "      <td>TV</td>\n",
       "      <td>51</td>\n",
       "      <td>9.25</td>\n",
       "      <td>114262</td>\n",
       "    </tr>\n",
       "    <tr>\n",
       "      <th>3</th>\n",
       "      <td>9253</td>\n",
       "      <td>Steins;Gate</td>\n",
       "      <td>Sci-Fi, Thriller</td>\n",
       "      <td>TV</td>\n",
       "      <td>24</td>\n",
       "      <td>9.17</td>\n",
       "      <td>673572</td>\n",
       "    </tr>\n",
       "    <tr>\n",
       "      <th>4</th>\n",
       "      <td>9969</td>\n",
       "      <td>Gintama&amp;#039;</td>\n",
       "      <td>Action, Comedy, Historical, Parody, Samurai, S...</td>\n",
       "      <td>TV</td>\n",
       "      <td>51</td>\n",
       "      <td>9.16</td>\n",
       "      <td>151266</td>\n",
       "    </tr>\n",
       "    <tr>\n",
       "      <th>5</th>\n",
       "      <td>32935</td>\n",
       "      <td>Haikyuu!!: Karasuno Koukou VS Shiratorizawa Ga...</td>\n",
       "      <td>Comedy, Drama, School, Shounen, Sports</td>\n",
       "      <td>TV</td>\n",
       "      <td>10</td>\n",
       "      <td>9.15</td>\n",
       "      <td>93351</td>\n",
       "    </tr>\n",
       "    <tr>\n",
       "      <th>6</th>\n",
       "      <td>11061</td>\n",
       "      <td>Hunter x Hunter (2011)</td>\n",
       "      <td>Action, Adventure, Shounen, Super Power</td>\n",
       "      <td>TV</td>\n",
       "      <td>148</td>\n",
       "      <td>9.13</td>\n",
       "      <td>425855</td>\n",
       "    </tr>\n",
       "    <tr>\n",
       "      <th>7</th>\n",
       "      <td>820</td>\n",
       "      <td>Ginga Eiyuu Densetsu</td>\n",
       "      <td>Drama, Military, Sci-Fi, Space</td>\n",
       "      <td>OVA</td>\n",
       "      <td>110</td>\n",
       "      <td>9.11</td>\n",
       "      <td>80679</td>\n",
       "    </tr>\n",
       "    <tr>\n",
       "      <th>8</th>\n",
       "      <td>15335</td>\n",
       "      <td>Gintama Movie: Kanketsu-hen - Yorozuya yo Eien...</td>\n",
       "      <td>Action, Comedy, Historical, Parody, Samurai, S...</td>\n",
       "      <td>Movie</td>\n",
       "      <td>1</td>\n",
       "      <td>9.10</td>\n",
       "      <td>72534</td>\n",
       "    </tr>\n",
       "    <tr>\n",
       "      <th>9</th>\n",
       "      <td>15417</td>\n",
       "      <td>Gintama&amp;#039;: Enchousen</td>\n",
       "      <td>Action, Comedy, Historical, Parody, Samurai, S...</td>\n",
       "      <td>TV</td>\n",
       "      <td>13</td>\n",
       "      <td>9.11</td>\n",
       "      <td>81109</td>\n",
       "    </tr>\n",
       "  </tbody>\n",
       "</table>\n",
       "</div>"
      ],
      "text/plain": [
       "   anime_id                                               name  \\\n",
       "0     32281                                     Kimi no Na wa.   \n",
       "1      5114                   Fullmetal Alchemist: Brotherhood   \n",
       "2     28977                                           Gintama°   \n",
       "3      9253                                        Steins;Gate   \n",
       "4      9969                                      Gintama&#039;   \n",
       "5     32935  Haikyuu!!: Karasuno Koukou VS Shiratorizawa Ga...   \n",
       "6     11061                             Hunter x Hunter (2011)   \n",
       "7       820                               Ginga Eiyuu Densetsu   \n",
       "8     15335  Gintama Movie: Kanketsu-hen - Yorozuya yo Eien...   \n",
       "9     15417                           Gintama&#039;: Enchousen   \n",
       "\n",
       "                                               genre   type episodes  rating  \\\n",
       "0               Drama, Romance, School, Supernatural  Movie        1    9.37   \n",
       "1  Action, Adventure, Drama, Fantasy, Magic, Mili...     TV       64    9.26   \n",
       "2  Action, Comedy, Historical, Parody, Samurai, S...     TV       51    9.25   \n",
       "3                                   Sci-Fi, Thriller     TV       24    9.17   \n",
       "4  Action, Comedy, Historical, Parody, Samurai, S...     TV       51    9.16   \n",
       "5             Comedy, Drama, School, Shounen, Sports     TV       10    9.15   \n",
       "6            Action, Adventure, Shounen, Super Power     TV      148    9.13   \n",
       "7                     Drama, Military, Sci-Fi, Space    OVA      110    9.11   \n",
       "8  Action, Comedy, Historical, Parody, Samurai, S...  Movie        1    9.10   \n",
       "9  Action, Comedy, Historical, Parody, Samurai, S...     TV       13    9.11   \n",
       "\n",
       "   members  \n",
       "0   200630  \n",
       "1   793665  \n",
       "2   114262  \n",
       "3   673572  \n",
       "4   151266  \n",
       "5    93351  \n",
       "6   425855  \n",
       "7    80679  \n",
       "8    72534  \n",
       "9    81109  "
      ]
     },
     "execution_count": 3,
     "metadata": {},
     "output_type": "execute_result"
    }
   ],
   "source": [
    "anime_df.head(10)"
   ]
  },
  {
   "cell_type": "markdown",
   "id": "4d1fa959",
   "metadata": {},
   "source": [
    "Pada file Rating.csv, terdapat variabel-variabel sebagai berikut:\n",
    "\n",
    "- user_id : Merupakan identifier yang dibuat secara random sebagai user_id.\n",
    "- anime_id : Merupakan identifier anime yang diberikan nilai oleh pengguna.\n",
    "- rating : Merupakan nilai yang diberikan oleh pengguna, memiliki skala hingga 10 serta nilai -1 jika user menonton dan tidak memberikan rating."
   ]
  },
  {
   "cell_type": "code",
   "execution_count": 4,
   "id": "5129ba05",
   "metadata": {},
   "outputs": [
    {
     "data": {
      "text/html": [
       "<div>\n",
       "<style scoped>\n",
       "    .dataframe tbody tr th:only-of-type {\n",
       "        vertical-align: middle;\n",
       "    }\n",
       "\n",
       "    .dataframe tbody tr th {\n",
       "        vertical-align: top;\n",
       "    }\n",
       "\n",
       "    .dataframe thead th {\n",
       "        text-align: right;\n",
       "    }\n",
       "</style>\n",
       "<table border=\"1\" class=\"dataframe\">\n",
       "  <thead>\n",
       "    <tr style=\"text-align: right;\">\n",
       "      <th></th>\n",
       "      <th>user_id</th>\n",
       "      <th>anime_id</th>\n",
       "      <th>rating</th>\n",
       "    </tr>\n",
       "  </thead>\n",
       "  <tbody>\n",
       "    <tr>\n",
       "      <th>0</th>\n",
       "      <td>1</td>\n",
       "      <td>20</td>\n",
       "      <td>-1</td>\n",
       "    </tr>\n",
       "    <tr>\n",
       "      <th>1</th>\n",
       "      <td>1</td>\n",
       "      <td>24</td>\n",
       "      <td>-1</td>\n",
       "    </tr>\n",
       "    <tr>\n",
       "      <th>2</th>\n",
       "      <td>1</td>\n",
       "      <td>79</td>\n",
       "      <td>-1</td>\n",
       "    </tr>\n",
       "    <tr>\n",
       "      <th>3</th>\n",
       "      <td>1</td>\n",
       "      <td>226</td>\n",
       "      <td>-1</td>\n",
       "    </tr>\n",
       "    <tr>\n",
       "      <th>4</th>\n",
       "      <td>1</td>\n",
       "      <td>241</td>\n",
       "      <td>-1</td>\n",
       "    </tr>\n",
       "    <tr>\n",
       "      <th>5</th>\n",
       "      <td>1</td>\n",
       "      <td>355</td>\n",
       "      <td>-1</td>\n",
       "    </tr>\n",
       "    <tr>\n",
       "      <th>6</th>\n",
       "      <td>1</td>\n",
       "      <td>356</td>\n",
       "      <td>-1</td>\n",
       "    </tr>\n",
       "    <tr>\n",
       "      <th>7</th>\n",
       "      <td>1</td>\n",
       "      <td>442</td>\n",
       "      <td>-1</td>\n",
       "    </tr>\n",
       "    <tr>\n",
       "      <th>8</th>\n",
       "      <td>1</td>\n",
       "      <td>487</td>\n",
       "      <td>-1</td>\n",
       "    </tr>\n",
       "    <tr>\n",
       "      <th>9</th>\n",
       "      <td>1</td>\n",
       "      <td>846</td>\n",
       "      <td>-1</td>\n",
       "    </tr>\n",
       "  </tbody>\n",
       "</table>\n",
       "</div>"
      ],
      "text/plain": [
       "   user_id  anime_id  rating\n",
       "0        1        20      -1\n",
       "1        1        24      -1\n",
       "2        1        79      -1\n",
       "3        1       226      -1\n",
       "4        1       241      -1\n",
       "5        1       355      -1\n",
       "6        1       356      -1\n",
       "7        1       442      -1\n",
       "8        1       487      -1\n",
       "9        1       846      -1"
      ]
     },
     "execution_count": 4,
     "metadata": {},
     "output_type": "execute_result"
    }
   ],
   "source": [
    "rating_df.head(10)"
   ]
  },
  {
   "cell_type": "markdown",
   "id": "089012fa",
   "metadata": {},
   "source": [
    "## Memeriksa Jumlah Data\n",
    "\n",
    "Berdasarkan hipotesis solusi yang diajukan menggunakan pendekatan *Collaborative Filtering* maka fitur-fitur yang akan diperiksa adalah sebagai berikut.\n",
    "1. Jumlah seluruh data penilaian terhadap *anime*\n",
    "2. Jumlah user identifier\n",
    "3. Jumlah anime identifier"
   ]
  },
  {
   "cell_type": "code",
   "execution_count": 5,
   "id": "0c984ec7",
   "metadata": {},
   "outputs": [
    {
     "name": "stdout",
     "output_type": "stream",
     "text": [
      "Jumlah seluruh data penilaian anime: 7813737\n",
      "Jumlah identifier unik user: 73515\n",
      "Jumlah identifier unik anime: 12294\n"
     ]
    }
   ],
   "source": [
    "print(\"Jumlah seluruh data penilaian anime: {}\".format(len(rating_df[\"user_id\"])))\n",
    "print(\"Jumlah identifier unik user: {}\".format(len(rating_df[\"user_id\"].unique())))\n",
    "print(\"Jumlah identifier unik anime: {}\".format(len(anime_df[\"anime_id\"].unique())))"
   ]
  },
  {
   "cell_type": "markdown",
   "id": "f58e7de2",
   "metadata": {},
   "source": [
    "## Memeriksa Keadaan Data\n",
    "\n",
    "Memeriksa keadaan dataset apakah terdapat *Missing Value*."
   ]
  },
  {
   "cell_type": "code",
   "execution_count": 6,
   "id": "32f9d86c",
   "metadata": {},
   "outputs": [
    {
     "name": "stdout",
     "output_type": "stream",
     "text": [
      "<class 'pandas.core.frame.DataFrame'>\n",
      "RangeIndex: 12294 entries, 0 to 12293\n",
      "Data columns (total 7 columns):\n",
      " #   Column    Non-Null Count  Dtype  \n",
      "---  ------    --------------  -----  \n",
      " 0   anime_id  12294 non-null  int64  \n",
      " 1   name      12294 non-null  object \n",
      " 2   genre     12232 non-null  object \n",
      " 3   type      12269 non-null  object \n",
      " 4   episodes  12294 non-null  object \n",
      " 5   rating    12064 non-null  float64\n",
      " 6   members   12294 non-null  int64  \n",
      "dtypes: float64(1), int64(2), object(4)\n",
      "memory usage: 672.5+ KB\n"
     ]
    }
   ],
   "source": [
    "anime_df.info()"
   ]
  },
  {
   "cell_type": "code",
   "execution_count": 7,
   "id": "3b187df5",
   "metadata": {},
   "outputs": [
    {
     "name": "stdout",
     "output_type": "stream",
     "text": [
      "<class 'pandas.core.frame.DataFrame'>\n",
      "RangeIndex: 7813737 entries, 0 to 7813736\n",
      "Data columns (total 3 columns):\n",
      " #   Column    Dtype\n",
      "---  ------    -----\n",
      " 0   user_id   int64\n",
      " 1   anime_id  int64\n",
      " 2   rating    int64\n",
      "dtypes: int64(3)\n",
      "memory usage: 178.8 MB\n"
     ]
    }
   ],
   "source": [
    "rating_df.info()"
   ]
  },
  {
   "cell_type": "code",
   "execution_count": 8,
   "id": "aebe6e7c",
   "metadata": {},
   "outputs": [
    {
     "data": {
      "text/plain": [
       "user_id     0\n",
       "anime_id    0\n",
       "rating      0\n",
       "dtype: int64"
      ]
     },
     "execution_count": 8,
     "metadata": {},
     "output_type": "execute_result"
    }
   ],
   "source": [
    "rating_df.isnull().sum()"
   ]
  },
  {
   "cell_type": "markdown",
   "id": "6f0006cb",
   "metadata": {},
   "source": [
    "# Data Cleaning"
   ]
  },
  {
   "cell_type": "markdown",
   "id": "dcb96660",
   "metadata": {},
   "source": [
    "## Mengatasi Anime yang Tidak Diberi Nilai\n",
    "\n",
    "Berdasarkan metadata singkat dataset, terdapat rating -1 yang berarti pengguna menonton *anime* tersebut namun tidak menilai *anime* tersebut. Hal ini akan menjadi masalah, karena kita tidak mengetahui apakah pengguna tersebut menyukai *anime* tersebut. "
   ]
  },
  {
   "cell_type": "code",
   "execution_count": 10,
   "id": "53ccbe83",
   "metadata": {},
   "outputs": [
    {
     "data": {
      "text/plain": [
       "1476496"
      ]
     },
     "execution_count": 10,
     "metadata": {},
     "output_type": "execute_result"
    }
   ],
   "source": [
    "len(rating_df[rating_df[\"rating\"] == -1])"
   ]
  },
  {
   "cell_type": "code",
   "execution_count": 11,
   "id": "f470157b",
   "metadata": {},
   "outputs": [
    {
     "data": {
      "text/plain": [
       "18.896156858107716"
      ]
     },
     "execution_count": 11,
     "metadata": {},
     "output_type": "execute_result"
    }
   ],
   "source": [
    "len(rating_df[rating_df[\"rating\"] == -1]) / len(rating_df) * 100"
   ]
  },
  {
   "cell_type": "code",
   "execution_count": 49,
   "id": "323de91f",
   "metadata": {},
   "outputs": [
    {
     "name": "stdout",
     "output_type": "stream",
     "text": [
      "Jumlah data yang memiliki poitif rating: 6337241\n",
      "Jumlah data yang memiliki negatif rating: 1476496\n",
      "Jumlah identifier unik pada data negatif rating: 10697\n"
     ]
    }
   ],
   "source": [
    "neg_rating = rating_df[rating_df[\"rating\"] == -1]\n",
    "pos_rating = rating_df[rating_df[\"rating\"] != -1]\n",
    "\n",
    "print(\"Jumlah data yang memiliki poitif rating: {}\".format(len(pos_rating)))\n",
    "print(\"Jumlah data yang memiliki negatif rating: {}\".format(len(neg_rating)))\n",
    "print(\"Jumlah identifier unik pada data negatif rating: {}\".format(len(neg_rating[\"anime_id\"].unique())))"
   ]
  },
  {
   "cell_type": "code",
   "execution_count": 50,
   "id": "7880d80d",
   "metadata": {},
   "outputs": [
    {
     "data": {
      "text/html": [
       "<div>\n",
       "<style scoped>\n",
       "    .dataframe tbody tr th:only-of-type {\n",
       "        vertical-align: middle;\n",
       "    }\n",
       "\n",
       "    .dataframe tbody tr th {\n",
       "        vertical-align: top;\n",
       "    }\n",
       "\n",
       "    .dataframe thead th {\n",
       "        text-align: right;\n",
       "    }\n",
       "</style>\n",
       "<table border=\"1\" class=\"dataframe\">\n",
       "  <thead>\n",
       "    <tr style=\"text-align: right;\">\n",
       "      <th></th>\n",
       "      <th>user_id</th>\n",
       "      <th>anime_id</th>\n",
       "      <th>rating</th>\n",
       "    </tr>\n",
       "  </thead>\n",
       "  <tbody>\n",
       "    <tr>\n",
       "      <th>0</th>\n",
       "      <td>1</td>\n",
       "      <td>20</td>\n",
       "      <td>-1</td>\n",
       "    </tr>\n",
       "    <tr>\n",
       "      <th>1</th>\n",
       "      <td>1</td>\n",
       "      <td>24</td>\n",
       "      <td>-1</td>\n",
       "    </tr>\n",
       "    <tr>\n",
       "      <th>2</th>\n",
       "      <td>1</td>\n",
       "      <td>79</td>\n",
       "      <td>-1</td>\n",
       "    </tr>\n",
       "    <tr>\n",
       "      <th>3</th>\n",
       "      <td>1</td>\n",
       "      <td>226</td>\n",
       "      <td>-1</td>\n",
       "    </tr>\n",
       "    <tr>\n",
       "      <th>4</th>\n",
       "      <td>1</td>\n",
       "      <td>241</td>\n",
       "      <td>-1</td>\n",
       "    </tr>\n",
       "  </tbody>\n",
       "</table>\n",
       "</div>"
      ],
      "text/plain": [
       "   user_id  anime_id  rating\n",
       "0        1        20      -1\n",
       "1        1        24      -1\n",
       "2        1        79      -1\n",
       "3        1       226      -1\n",
       "4        1       241      -1"
      ]
     },
     "execution_count": 50,
     "metadata": {},
     "output_type": "execute_result"
    }
   ],
   "source": [
    "neg_rating.head(5)"
   ]
  },
  {
   "cell_type": "code",
   "execution_count": 65,
   "id": "5cd09c68",
   "metadata": {},
   "outputs": [
    {
     "name": "stdout",
     "output_type": "stream",
     "text": [
      "Panjang sebelum menghilangkan missing value: 10694\n",
      "Panjang setelah menghilangkan missing value: 10693\n",
      "Merubah tipe data rating_y dari float menjadi int!\n"
     ]
    }
   ],
   "source": [
    "merge_rating = neg_rating.merge(anime_df, on=\"anime_id\")\n",
    "\n",
    "merge_rating = merge_rating[[\"user_id\", \"anime_id\", \"rating_y\"]]\n",
    "print(\"Panjang sebelum menghilangkan missing value: {}\".format(len(merge_rating[\"anime_id\"].unique())))\n",
    "\n",
    "merge_rating = merge_rating.dropna(subset=[\"rating_y\"])\n",
    "print(\"Panjang setelah menghilangkan missing value: {}\".format(len(merge_rating[\"anime_id\"].unique())))\n",
    "\n",
    "merge_rating[\"rating_y\"] = merge_rating[\"rating_y\"].astype(\"int64\")\n",
    "print(\"Merubah tipe data rating_y dari float menjadi int!\")"
   ]
  },
  {
   "cell_type": "code",
   "execution_count": 66,
   "id": "2777b0fe",
   "metadata": {},
   "outputs": [
    {
     "name": "stdout",
     "output_type": "stream",
     "text": [
      "<class 'pandas.core.frame.DataFrame'>\n",
      "Int64Index: 1476487 entries, 0 to 1476487\n",
      "Data columns (total 3 columns):\n",
      " #   Column    Non-Null Count    Dtype\n",
      "---  ------    --------------    -----\n",
      " 0   user_id   1476487 non-null  int64\n",
      " 1   anime_id  1476487 non-null  int64\n",
      " 2   rating_y  1476487 non-null  int64\n",
      "dtypes: int64(3)\n",
      "memory usage: 45.1 MB\n"
     ]
    }
   ],
   "source": [
    "merge_rating.info()"
   ]
  },
  {
   "cell_type": "code",
   "execution_count": 67,
   "id": "8f526471",
   "metadata": {},
   "outputs": [],
   "source": [
    "merge_rating = merge_rating.rename(columns={\"rating_y\":\"rating\"})"
   ]
  },
  {
   "cell_type": "code",
   "execution_count": 68,
   "id": "20320e49",
   "metadata": {},
   "outputs": [
    {
     "name": "stdout",
     "output_type": "stream",
     "text": [
      "Jumlah data setelah dilakukan penggabungan data 7813728\n"
     ]
    }
   ],
   "source": [
    "prepared_df = pd.concat([pos_rating, merge_rating], ignore_index=True)\n",
    "\n",
    "print(\"Jumlah data setelah dilakukan penggabungan data {}\".format(len(prepared_df)))"
   ]
  },
  {
   "cell_type": "code",
   "execution_count": 69,
   "id": "4be4eba0",
   "metadata": {},
   "outputs": [
    {
     "data": {
      "text/html": [
       "<div>\n",
       "<style scoped>\n",
       "    .dataframe tbody tr th:only-of-type {\n",
       "        vertical-align: middle;\n",
       "    }\n",
       "\n",
       "    .dataframe tbody tr th {\n",
       "        vertical-align: top;\n",
       "    }\n",
       "\n",
       "    .dataframe thead th {\n",
       "        text-align: right;\n",
       "    }\n",
       "</style>\n",
       "<table border=\"1\" class=\"dataframe\">\n",
       "  <thead>\n",
       "    <tr style=\"text-align: right;\">\n",
       "      <th></th>\n",
       "      <th>user_id</th>\n",
       "      <th>anime_id</th>\n",
       "      <th>rating</th>\n",
       "    </tr>\n",
       "  </thead>\n",
       "  <tbody>\n",
       "    <tr>\n",
       "      <th>0</th>\n",
       "      <td>1</td>\n",
       "      <td>8074</td>\n",
       "      <td>10</td>\n",
       "    </tr>\n",
       "    <tr>\n",
       "      <th>1</th>\n",
       "      <td>1</td>\n",
       "      <td>11617</td>\n",
       "      <td>10</td>\n",
       "    </tr>\n",
       "    <tr>\n",
       "      <th>2</th>\n",
       "      <td>1</td>\n",
       "      <td>11757</td>\n",
       "      <td>10</td>\n",
       "    </tr>\n",
       "    <tr>\n",
       "      <th>3</th>\n",
       "      <td>1</td>\n",
       "      <td>15451</td>\n",
       "      <td>10</td>\n",
       "    </tr>\n",
       "    <tr>\n",
       "      <th>4</th>\n",
       "      <td>2</td>\n",
       "      <td>11771</td>\n",
       "      <td>10</td>\n",
       "    </tr>\n",
       "    <tr>\n",
       "      <th>5</th>\n",
       "      <td>3</td>\n",
       "      <td>20</td>\n",
       "      <td>8</td>\n",
       "    </tr>\n",
       "    <tr>\n",
       "      <th>6</th>\n",
       "      <td>3</td>\n",
       "      <td>154</td>\n",
       "      <td>6</td>\n",
       "    </tr>\n",
       "    <tr>\n",
       "      <th>7</th>\n",
       "      <td>3</td>\n",
       "      <td>170</td>\n",
       "      <td>9</td>\n",
       "    </tr>\n",
       "    <tr>\n",
       "      <th>8</th>\n",
       "      <td>3</td>\n",
       "      <td>199</td>\n",
       "      <td>10</td>\n",
       "    </tr>\n",
       "    <tr>\n",
       "      <th>9</th>\n",
       "      <td>3</td>\n",
       "      <td>225</td>\n",
       "      <td>9</td>\n",
       "    </tr>\n",
       "  </tbody>\n",
       "</table>\n",
       "</div>"
      ],
      "text/plain": [
       "   user_id  anime_id  rating\n",
       "0        1      8074      10\n",
       "1        1     11617      10\n",
       "2        1     11757      10\n",
       "3        1     15451      10\n",
       "4        2     11771      10\n",
       "5        3        20       8\n",
       "6        3       154       6\n",
       "7        3       170       9\n",
       "8        3       199      10\n",
       "9        3       225       9"
      ]
     },
     "execution_count": 69,
     "metadata": {},
     "output_type": "execute_result"
    }
   ],
   "source": [
    "prepared_df.head(10)"
   ]
  },
  {
   "cell_type": "markdown",
   "id": "e106242a",
   "metadata": {},
   "source": [
    "# Eksplorasi Data: Univariate Analysis\n",
    "\n",
    "Memvisualisasikan ketersebaran rating terhadap jumlah data yang ada."
   ]
  },
  {
   "cell_type": "markdown",
   "id": "a5c6d964",
   "metadata": {},
   "source": [
    "### Melihat Ketersebaran Data Rating"
   ]
  },
  {
   "cell_type": "code",
   "execution_count": 77,
   "id": "550e66b7",
   "metadata": {},
   "outputs": [
    {
     "data": {
      "text/plain": [
       "<AxesSubplot:title={'center':'Distribution of Rating'}, xlabel='rating'>"
      ]
     },
     "execution_count": 77,
     "metadata": {},
     "output_type": "execute_result"
    },
    {
     "data": {
      "image/png": "[encoded data removed]",
      "text/plain": [
       "<Figure size 432x288 with 1 Axes>"
      ]
     },
     "metadata": {
      "needs_background": "light"
     },
     "output_type": "display_data"
    }
   ],
   "source": [
    "prepared_df.groupby(\"rating\").size().plot(kind=\"bar\", title=\"Distribution of Rating\")"
   ]
  },
  {
   "cell_type": "code",
   "execution_count": 76,
   "id": "e5ca4638",
   "metadata": {},
   "outputs": [
    {
     "data": {
      "text/plain": [
       "7     28.140729\n",
       "8     25.842594\n",
       "9     16.196430\n",
       "10    12.231229\n",
       "6     11.252887\n",
       "5      3.918910\n",
       "4      1.363792\n",
       "3      0.541227\n",
       "2      0.299089\n",
       "1      0.213112\n",
       "Name: rating, dtype: float64"
      ]
     },
     "execution_count": 76,
     "metadata": {},
     "output_type": "execute_result"
    }
   ],
   "source": [
    "prepared_df[\"rating\"].value_counts() / len(prepared_df) * 100"
   ]
  },
  {
   "cell_type": "markdown",
   "id": "7d4755f8",
   "metadata": {},
   "source": [
    "### Melihat Jenis Anime Terpopuler"
   ]
  },
  {
   "cell_type": "code",
   "execution_count": 79,
   "id": "d532238a",
   "metadata": {},
   "outputs": [
    {
     "data": {
      "text/plain": [
       "<AxesSubplot:title={'center':'Popular Anime Types'}>"
      ]
     },
     "execution_count": 79,
     "metadata": {},
     "output_type": "execute_result"
    },
    {
     "data": {
      "image/png": "[encoded data removed]",
      "text/plain": [
       "<Figure size 432x288 with 1 Axes>"
      ]
     },
     "metadata": {
      "needs_background": "light"
     },
     "output_type": "display_data"
    }
   ],
   "source": [
    "anime_df[\"type\"].value_counts().plot(kind=\"bar\", title=\"Popular Anime Types\")"
   ]
  },
  {
   "cell_type": "markdown",
   "id": "21411dd3",
   "metadata": {},
   "source": [
    "# Data Preparation\n",
    "\n",
    "Mempersiapkan data dimulai dari:\n",
    "1. Pembuatan dictionary encoded baru\n",
    "2. Split data menjadi training dan testing"
   ]
  },
  {
   "cell_type": "markdown",
   "id": "75d39a29",
   "metadata": {},
   "source": [
    "### Encode User_id dan Anime_id\n",
    "\n",
    "Meng-encode fitur user_id dan anime_id menjadi indeks integer. Hal ini dilakukan karena dua hal:\n",
    "1. Sebagai look up dictionary\n",
    "2. Indeks row embedding nantinya akan mengikuti indeks ini"
   ]
  },
  {
   "cell_type": "code",
   "execution_count": 85,
   "id": "97bb056c",
   "metadata": {},
   "outputs": [],
   "source": [
    "encoded_df = prepared_df.copy()"
   ]
  },
  {
   "cell_type": "markdown",
   "id": "d7c7059e",
   "metadata": {},
   "source": [
    "Meng-encode menggunakan metode pandas .cat dan .codes. Kolom yang akan di-return indeks dari kolom tersebut."
   ]
  },
  {
   "cell_type": "code",
   "execution_count": 86,
   "id": "852df659",
   "metadata": {},
   "outputs": [],
   "source": [
    "encoded_df[\"user_id\"] = encoded_df[\"user_id\"].astype(\"category\") \n",
    "encoded_df[\"user_id_encoded\"] = encoded_df[\"user_id\"].cat.codes\n",
    "\n",
    "encoded_df[\"anime_id\"] = encoded_df[\"anime_id\"].astype(\"category\")\n",
    "encoded_df[\"anime_id_encoded\"] = encoded_df[\"anime_id\"].cat.codes"
   ]
  },
  {
   "cell_type": "code",
   "execution_count": 95,
   "id": "88eeea36",
   "metadata": {},
   "outputs": [
    {
     "name": "stdout",
     "output_type": "stream",
     "text": [
      "Jumlah user_id: 73515\n",
      "Jumlah hasil encoded user_id: 73515\n",
      "\n",
      "Jumlah anime_id: 11197\n",
      "Jumlah hasil encoded anime_id: 11197\n"
     ]
    }
   ],
   "source": [
    "print(\"Jumlah user_id: {}\".format(len(encoded_df[\"user_id\"].unique())))\n",
    "print(\"Jumlah hasil encoded user_id: {}\".format(len(encoded_df[\"user_id_encoded\"].unique())))\n",
    "print()\n",
    "print(\"Jumlah anime_id: {}\".format(len(encoded_df[\"anime_id\"].unique())))\n",
    "print(\"Jumlah hasil encoded anime_id: {}\".format(len(encoded_df[\"anime_id_encoded\"].unique())))"
   ]
  },
  {
   "cell_type": "code",
   "execution_count": 96,
   "id": "ba42d122",
   "metadata": {},
   "outputs": [
    {
     "data": {
      "text/html": [
       "<div>\n",
       "<style scoped>\n",
       "    .dataframe tbody tr th:only-of-type {\n",
       "        vertical-align: middle;\n",
       "    }\n",
       "\n",
       "    .dataframe tbody tr th {\n",
       "        vertical-align: top;\n",
       "    }\n",
       "\n",
       "    .dataframe thead th {\n",
       "        text-align: right;\n",
       "    }\n",
       "</style>\n",
       "<table border=\"1\" class=\"dataframe\">\n",
       "  <thead>\n",
       "    <tr style=\"text-align: right;\">\n",
       "      <th></th>\n",
       "      <th>user_id</th>\n",
       "      <th>anime_id</th>\n",
       "      <th>rating</th>\n",
       "      <th>user_id_encoded</th>\n",
       "      <th>anime_id_encoded</th>\n",
       "    </tr>\n",
       "  </thead>\n",
       "  <tbody>\n",
       "    <tr>\n",
       "      <th>0</th>\n",
       "      <td>1</td>\n",
       "      <td>8074</td>\n",
       "      <td>10</td>\n",
       "      <td>0</td>\n",
       "      <td>5214</td>\n",
       "    </tr>\n",
       "    <tr>\n",
       "      <th>6457115</th>\n",
       "      <td>1</td>\n",
       "      <td>14967</td>\n",
       "      <td>7</td>\n",
       "      <td>0</td>\n",
       "      <td>7190</td>\n",
       "    </tr>\n",
       "    <tr>\n",
       "      <th>6458667</th>\n",
       "      <td>1</td>\n",
       "      <td>15117</td>\n",
       "      <td>7</td>\n",
       "      <td>0</td>\n",
       "      <td>7214</td>\n",
       "    </tr>\n",
       "    <tr>\n",
       "      <th>6459339</th>\n",
       "      <td>1</td>\n",
       "      <td>15437</td>\n",
       "      <td>7</td>\n",
       "      <td>0</td>\n",
       "      <td>7253</td>\n",
       "    </tr>\n",
       "    <tr>\n",
       "      <th>6459958</th>\n",
       "      <td>1</td>\n",
       "      <td>15583</td>\n",
       "      <td>7</td>\n",
       "      <td>0</td>\n",
       "      <td>7275</td>\n",
       "    </tr>\n",
       "    <tr>\n",
       "      <th>6461788</th>\n",
       "      <td>1</td>\n",
       "      <td>15609</td>\n",
       "      <td>6</td>\n",
       "      <td>0</td>\n",
       "      <td>7279</td>\n",
       "    </tr>\n",
       "    <tr>\n",
       "      <th>6462044</th>\n",
       "      <td>1</td>\n",
       "      <td>16011</td>\n",
       "      <td>7</td>\n",
       "      <td>0</td>\n",
       "      <td>7357</td>\n",
       "    </tr>\n",
       "    <tr>\n",
       "      <th>6456073</th>\n",
       "      <td>1</td>\n",
       "      <td>14833</td>\n",
       "      <td>7</td>\n",
       "      <td>0</td>\n",
       "      <td>7175</td>\n",
       "    </tr>\n",
       "    <tr>\n",
       "      <th>6462947</th>\n",
       "      <td>1</td>\n",
       "      <td>16498</td>\n",
       "      <td>8</td>\n",
       "      <td>0</td>\n",
       "      <td>7439</td>\n",
       "    </tr>\n",
       "    <tr>\n",
       "      <th>6468225</th>\n",
       "      <td>1</td>\n",
       "      <td>17265</td>\n",
       "      <td>8</td>\n",
       "      <td>0</td>\n",
       "      <td>7614</td>\n",
       "    </tr>\n",
       "  </tbody>\n",
       "</table>\n",
       "</div>"
      ],
      "text/plain": [
       "        user_id anime_id  rating  user_id_encoded  anime_id_encoded\n",
       "0             1     8074      10                0              5214\n",
       "6457115       1    14967       7                0              7190\n",
       "6458667       1    15117       7                0              7214\n",
       "6459339       1    15437       7                0              7253\n",
       "6459958       1    15583       7                0              7275\n",
       "6461788       1    15609       6                0              7279\n",
       "6462044       1    16011       7                0              7357\n",
       "6456073       1    14833       7                0              7175\n",
       "6462947       1    16498       8                0              7439\n",
       "6468225       1    17265       8                0              7614"
      ]
     },
     "execution_count": 96,
     "metadata": {},
     "output_type": "execute_result"
    }
   ],
   "source": [
    "encoded_df.sort_values(\"user_id_encoded\").head(10)"
   ]
  },
  {
   "cell_type": "code",
   "execution_count": 97,
   "id": "807b04b7",
   "metadata": {},
   "outputs": [
    {
     "data": {
      "text/html": [
       "<div>\n",
       "<style scoped>\n",
       "    .dataframe tbody tr th:only-of-type {\n",
       "        vertical-align: middle;\n",
       "    }\n",
       "\n",
       "    .dataframe tbody tr th {\n",
       "        vertical-align: top;\n",
       "    }\n",
       "\n",
       "    .dataframe thead th {\n",
       "        text-align: right;\n",
       "    }\n",
       "</style>\n",
       "<table border=\"1\" class=\"dataframe\">\n",
       "  <thead>\n",
       "    <tr style=\"text-align: right;\">\n",
       "      <th></th>\n",
       "      <th>user_id</th>\n",
       "      <th>anime_id</th>\n",
       "      <th>rating</th>\n",
       "      <th>user_id_encoded</th>\n",
       "      <th>anime_id_encoded</th>\n",
       "    </tr>\n",
       "  </thead>\n",
       "  <tbody>\n",
       "    <tr>\n",
       "      <th>3856156</th>\n",
       "      <td>45525</td>\n",
       "      <td>1</td>\n",
       "      <td>8</td>\n",
       "      <td>45524</td>\n",
       "      <td>0</td>\n",
       "    </tr>\n",
       "    <tr>\n",
       "      <th>6620788</th>\n",
       "      <td>11924</td>\n",
       "      <td>1</td>\n",
       "      <td>8</td>\n",
       "      <td>11923</td>\n",
       "      <td>0</td>\n",
       "    </tr>\n",
       "    <tr>\n",
       "      <th>6620789</th>\n",
       "      <td>11974</td>\n",
       "      <td>1</td>\n",
       "      <td>8</td>\n",
       "      <td>11973</td>\n",
       "      <td>0</td>\n",
       "    </tr>\n",
       "    <tr>\n",
       "      <th>6620790</th>\n",
       "      <td>12007</td>\n",
       "      <td>1</td>\n",
       "      <td>8</td>\n",
       "      <td>12006</td>\n",
       "      <td>0</td>\n",
       "    </tr>\n",
       "    <tr>\n",
       "      <th>6620791</th>\n",
       "      <td>12050</td>\n",
       "      <td>1</td>\n",
       "      <td>8</td>\n",
       "      <td>12049</td>\n",
       "      <td>0</td>\n",
       "    </tr>\n",
       "    <tr>\n",
       "      <th>6620792</th>\n",
       "      <td>12136</td>\n",
       "      <td>1</td>\n",
       "      <td>8</td>\n",
       "      <td>12135</td>\n",
       "      <td>0</td>\n",
       "    </tr>\n",
       "    <tr>\n",
       "      <th>6620793</th>\n",
       "      <td>12154</td>\n",
       "      <td>1</td>\n",
       "      <td>8</td>\n",
       "      <td>12153</td>\n",
       "      <td>0</td>\n",
       "    </tr>\n",
       "    <tr>\n",
       "      <th>1631534</th>\n",
       "      <td>19502</td>\n",
       "      <td>1</td>\n",
       "      <td>10</td>\n",
       "      <td>19501</td>\n",
       "      <td>0</td>\n",
       "    </tr>\n",
       "    <tr>\n",
       "      <th>6620794</th>\n",
       "      <td>12222</td>\n",
       "      <td>1</td>\n",
       "      <td>8</td>\n",
       "      <td>12221</td>\n",
       "      <td>0</td>\n",
       "    </tr>\n",
       "    <tr>\n",
       "      <th>6620795</th>\n",
       "      <td>12254</td>\n",
       "      <td>1</td>\n",
       "      <td>8</td>\n",
       "      <td>12253</td>\n",
       "      <td>0</td>\n",
       "    </tr>\n",
       "  </tbody>\n",
       "</table>\n",
       "</div>"
      ],
      "text/plain": [
       "        user_id anime_id  rating  user_id_encoded  anime_id_encoded\n",
       "3856156   45525        1       8            45524                 0\n",
       "6620788   11924        1       8            11923                 0\n",
       "6620789   11974        1       8            11973                 0\n",
       "6620790   12007        1       8            12006                 0\n",
       "6620791   12050        1       8            12049                 0\n",
       "6620792   12136        1       8            12135                 0\n",
       "6620793   12154        1       8            12153                 0\n",
       "1631534   19502        1      10            19501                 0\n",
       "6620794   12222        1       8            12221                 0\n",
       "6620795   12254        1       8            12253                 0"
      ]
     },
     "execution_count": 97,
     "metadata": {},
     "output_type": "execute_result"
    }
   ],
   "source": [
    "encoded_df.sort_values(\"anime_id_encoded\").head(10)"
   ]
  },
  {
   "cell_type": "markdown",
   "id": "684224a2",
   "metadata": {},
   "source": [
    "### Membangun dictionary sebagai lookup table"
   ]
  },
  {
   "cell_type": "code",
   "execution_count": 98,
   "id": "248f9162",
   "metadata": {},
   "outputs": [],
   "source": [
    "user_id_dict = dict(zip(encoded_df[\"user_id_encoded\"], encoded_df[\"user_id\"]))\n",
    "anime_id_dict = dict(zip(encoded_df[\"anime_id_encoded\"], encoded_df[\"anime_id\"]))"
   ]
  },
  {
   "cell_type": "markdown",
   "id": "492a5009",
   "metadata": {},
   "source": [
    "### Splitting Data\n",
    "\n",
    "Splitting data dengan membagi data sesuai representasi keseluruhan data"
   ]
  },
  {
   "cell_type": "code",
   "execution_count": 111,
   "id": "c27230c6",
   "metadata": {},
   "outputs": [],
   "source": [
    "encoded_prep_df = encoded_df[[\"user_id_encoded\", \"anime_id_encoded\", \"rating\"]]\n",
    "\n",
    "split = StratifiedShuffleSplit(n_splits=1, test_size=0.1, random_state=42)\n",
    "for train_index, test_index in split.split(encoded_prep_df, encoded_prep_df[\"rating\"]):\n",
    "    strat_train_set = encoded_prep_df.loc[train_index]\n",
    "    strat_test_set = encoded_prep_df.loc[test_index]"
   ]
  },
  {
   "cell_type": "markdown",
   "id": "ca586e38",
   "metadata": {},
   "source": [
    "Hasil pembagian data secara strata"
   ]
  },
  {
   "cell_type": "code",
   "execution_count": 113,
   "id": "a0fb8d87",
   "metadata": {},
   "outputs": [
    {
     "data": {
      "text/plain": [
       "rating\n",
       "1      0.213115\n",
       "2      0.299089\n",
       "3      0.541227\n",
       "4      1.363796\n",
       "5      3.918915\n",
       "6     11.252888\n",
       "7     28.140730\n",
       "8     25.842595\n",
       "9     16.196424\n",
       "10    12.231223\n",
       "dtype: float64"
      ]
     },
     "execution_count": 113,
     "metadata": {},
     "output_type": "execute_result"
    }
   ],
   "source": [
    "strat_train_set.groupby(\"rating\").size() / len(strat_train_set) * 100"
   ]
  },
  {
   "cell_type": "code",
   "execution_count": 115,
   "id": "bf72a7ea",
   "metadata": {},
   "outputs": [
    {
     "data": {
      "text/plain": [
       "rating\n",
       "1      0.213086\n",
       "2      0.299089\n",
       "3      0.541227\n",
       "4      1.363753\n",
       "5      3.918871\n",
       "6     11.252884\n",
       "7     28.140722\n",
       "8     25.842587\n",
       "9     16.196490\n",
       "10    12.231290\n",
       "dtype: float64"
      ]
     },
     "execution_count": 115,
     "metadata": {},
     "output_type": "execute_result"
    }
   ],
   "source": [
    "strat_test_set.groupby(\"rating\").size() / len(strat_test_set) * 100"
   ]
  },
  {
   "cell_type": "code",
   "execution_count": 116,
   "id": "61bdcd2b",
   "metadata": {},
   "outputs": [],
   "source": [
    "X_train = strat_train_set[[\"user_id_encoded\", \"anime_id_encoded\"]].to_numpy()\n",
    "y_train = strat_train_set[\"rating\"].to_numpy()\n",
    "y_train = (y_train - min(y_train)) / (max(y_train) - min(y_train))\n",
    "\n",
    "X_test = strat_test_set[[\"user_id_encoded\", \"anime_id_encoded\"]].to_numpy()\n",
    "y_test = strat_test_set[\"rating\"].to_numpy()\n",
    "y_test = (y_test - min(y_test)) / (max(y_test) - min(y_test))"
   ]
  },
  {
   "cell_type": "markdown",
   "id": "58bdda6a",
   "metadata": {},
   "source": [
    "### Hasil Data Preparation dalam bentuk Numpy"
   ]
  },
  {
   "cell_type": "code",
   "execution_count": 117,
   "id": "369ebda9",
   "metadata": {},
   "outputs": [
    {
     "name": "stdout",
     "output_type": "stream",
     "text": [
      "[[64750  8853]\n",
      " [45299  3752]\n",
      " [64540 10883]\n",
      " ...\n",
      " [28562  6216]\n",
      " [ 7132   278]\n",
      " [48029  2703]] [0.55555556 1.         0.77777778 ... 0.77777778 0.88888889 0.77777778]\n"
     ]
    }
   ],
   "source": [
    "print(X_train, y_train)"
   ]
  },
  {
   "cell_type": "markdown",
   "id": "83413df6",
   "metadata": {},
   "source": [
    "# Modelling Data\n",
    "\n",
    "Pada bagian ini akan dilakukan modelling menggunakan pendekatan Deep Learning:\n",
    "1. RecommenderNet\n",
    "2. Probabilistic Matrix Factorization"
   ]
  },
  {
   "cell_type": "code",
   "execution_count": 125,
   "id": "68ff8fc6",
   "metadata": {},
   "outputs": [],
   "source": [
    "## Global Variable\n",
    "\n",
    "NUM_USERS = len(user_id_dict)\n",
    "NUM_ITEMS = len(anime_id_dict)\n",
    "EMBEDDING_SIZE = 100"
   ]
  },
  {
   "cell_type": "markdown",
   "id": "3624a07d",
   "metadata": {},
   "source": [
    "## RecommenderNet"
   ]
  },
  {
   "cell_type": "code",
   "execution_count": 133,
   "id": "62c1c569",
   "metadata": {},
   "outputs": [],
   "source": [
    "class RecommenderNet(tf.keras.Model):\n",
    "    def __init__(self, n_users, n_items, embedding_size, **kwargs):\n",
    "        super(RecommenderNet, self).__init__(**kwargs)\n",
    "        self.n_users = n_users\n",
    "        self.n_items = n_items\n",
    "        self.embedding_size = embedding_size\n",
    "        \n",
    "        self.user_embedding = keras.layers.Embedding(n_users,\n",
    "                                                     embedding_size,\n",
    "                                                     embeddings_initializer = 'he_normal',\n",
    "                                                     embeddings_regularizer = keras.regularizers.l2(1e-6))\n",
    "        \n",
    "        self.user_bias = keras.layers.Embedding(n_users, 1)\n",
    "        \n",
    "        self.items_embedding = keras.layers.Embedding(n_items,\n",
    "                                                      embedding_size,\n",
    "                                                      embeddings_initializer = 'he_normal',\n",
    "                                                      embeddings_regularizer = keras.regularizers.l2(1e-6))\n",
    "        self.items_bias = keras.layers.Embedding(n_items, 1)\n",
    "    \n",
    "    def call(self, inputs):\n",
    "        user_vector = self.user_embedding(inputs[:,0])\n",
    "        user_bias = self.user_bias(inputs[:, 0])\n",
    "        item_vector = self.items_embedding(inputs[:, 1])\n",
    "        item_bias = self.items_bias(inputs[:, 1])\n",
    "\n",
    "        dot_user_resto = tf.tensordot(user_vector, item_vector, 2) \n",
    "\n",
    "        x = dot_user_resto + user_bias + item_bias\n",
    "\n",
    "        return tf.nn.sigmoid(x)"
   ]
  },
  {
   "cell_type": "code",
   "execution_count": 136,
   "id": "6eab64e3",
   "metadata": {},
   "outputs": [],
   "source": [
    "recommender_net = RecommenderNet(NUM_USERS, NUM_ITEMS, EMBEDDING_SIZE)\n",
    "\n",
    "recommender_net.compile(loss=tf.keras.losses.BinaryCrossentropy(),\n",
    "                        optimizer=tf.keras.optimizers.Adam(learning_rate=0.001),\n",
    "                        metrics=[tf.keras.metrics.RootMeanSquaredError()])"
   ]
  },
  {
   "cell_type": "code",
   "execution_count": null,
   "id": "ee29865a",
   "metadata": {},
   "outputs": [],
   "source": [
    "recommender_net_hist = recommender_net.fit(X_train, y_train,\n",
    "                                           epochs=100,\n",
    "                                           validation_data=(X_test, y_test))"
   ]
  },
  {
   "cell_type": "markdown",
   "id": "e4921c98",
   "metadata": {},
   "source": [
    "## Probabilistic Matrix Factorization"
   ]
  },
  {
   "cell_type": "code",
   "execution_count": 140,
   "id": "f109e944",
   "metadata": {},
   "outputs": [],
   "source": [
    "class PMF(tf.keras.Model):\n",
    "    def __init__(self, n_users, n_items, n_dim):\n",
    "        super(PMF, self).__init__()      \n",
    "        self.w_u_i_init = tf.keras.initializers.RandomUniform(minval=-1., maxval=1., seed=1)\n",
    "        \n",
    "        self.user_embedding = tf.keras.layers.Embedding(n_users,\n",
    "                                                        n_dim,\n",
    "                                                        embeddings_initializer='uniform',\n",
    "                                                        embeddings_regularizer=tf.keras.regularizers.L2(0.1))\n",
    "      \n",
    "        self.item_embedding = tf.keras.layers.Embedding(n_items,\n",
    "                                                        n_dim,\n",
    "                                                        embeddings_initializer='uniform',\n",
    "                                                        embeddings_regularizer=tf.keras.regularizers.L2(0.1))\n",
    "        \n",
    "        ## users embedding\n",
    "        self.ub = tf.keras.layers.Embedding(n_users, \n",
    "                                            1, \n",
    "                                            embeddings_initializer=self.w_u_i_init, \n",
    "                                            embeddings_regularizer=tf.keras.regularizers.L2(0.1)) \n",
    "        ## items embedding\n",
    "        self.ib = tf.keras.layers.Embedding(n_items, \n",
    "                                            1, \n",
    "                                            embeddings_initializer=self.w_u_i_init, \n",
    "                                            embeddings_regularizer=tf.keras.regularizers.L2(0.1))\n",
    "        \n",
    "    def call(self, inputs):\n",
    "        self.user_index = inputs[:, 0]\n",
    "        self.item_index = inputs[:, 1]\n",
    "        \n",
    "        user_h1 = self.user_embedding(self.user_index)\n",
    "        item_h1 = self.item_embedding(self.item_index)\n",
    "        \n",
    "        r_h = tf.math.reduce_sum(user_h1 * item_h1, axis=1 if len(user_h1.shape) > 1 else 0)\n",
    "        r_h += tf.squeeze(self.ub(self.user_index))\n",
    "        r_h += tf.squeeze(self.ib(self.item_index))\n",
    "        \n",
    "        return r_h"
   ]
  },
  {
   "cell_type": "code",
   "execution_count": 143,
   "id": "ccf43ce6",
   "metadata": {},
   "outputs": [],
   "source": [
    "pmf = PMF(NUM_USERS, NUM_ITEMS, EMBEDDING_SIZE)\n",
    "\n",
    "pmf.compile(loss='mse',\n",
    "            optimizer='Nadam',\n",
    "            metrics=[tf.keras.metrics.RootMeanSquaredError()])"
   ]
  },
  {
   "cell_type": "code",
   "execution_count": null,
   "id": "f6a30076",
   "metadata": {},
   "outputs": [],
   "source": [
    "pmf_hist = pmf.fit(X_train, y_train,\n",
    "                   epochs=100,\n",
    "                   validation_data=(X_test, y_test))"
   ]
  }
 ],
 "metadata": {
  "kernelspec": {
   "display_name": "Python 3 (ipykernel)",
   "language": "python",
   "name": "python3"
  },
  "language_info": {
   "codemirror_mode": {
    "name": "ipython",
    "version": 3
   },
   "file_extension": ".py",
   "mimetype": "text/x-python",
   "name": "python",
   "nbconvert_exporter": "python",
   "pygments_lexer": "ipython3",
   "version": "3.9.2"
  }
 },
 "nbformat": 4,
 "nbformat_minor": 5
}
