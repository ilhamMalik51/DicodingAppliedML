{
 "cells": [
  {
   "cell_type": "code",
   "execution_count": 1,
   "id": "5584a2dd",
   "metadata": {
    "execution": {
     "iopub.execute_input": "2022-08-10T08:19:03.310306Z",
     "iopub.status.busy": "2022-08-10T08:19:03.309766Z",
     "iopub.status.idle": "2022-08-10T08:19:08.635962Z",
     "shell.execute_reply": "2022-08-10T08:19:08.634902Z"
    },
    "papermill": {
     "duration": 5.343726,
     "end_time": "2022-08-10T08:19:08.638960",
     "exception": false,
     "start_time": "2022-08-10T08:19:03.295234",
     "status": "completed"
    },
    "tags": []
   },
   "outputs": [],
   "source": [
    "import pickle\n",
    "import numpy as np\n",
    "import pandas as pd\n",
    "import tensorflow as tf\n",
    "\n",
    "import matplotlib.pyplot as plt\n",
    "\n",
    "from tensorflow import keras\n",
    "from sklearn.model_selection import StratifiedShuffleSplit"
   ]
  },
  {
   "cell_type": "markdown",
   "id": "93ec81d1",
   "metadata": {
    "papermill": {
     "duration": 0.010843,
     "end_time": "2022-08-10T08:19:08.662420",
     "exception": false,
     "start_time": "2022-08-10T08:19:08.651577",
     "status": "completed"
    },
    "tags": []
   },
   "source": [
    "# Understanding Data\n",
    "\n",
    "Memahami data ini bertujuan untuk mendapatkan insight-insight baru terhadap data."
   ]
  },
  {
   "cell_type": "code",
   "execution_count": 2,
   "id": "df41e8d4",
   "metadata": {
    "execution": {
     "iopub.execute_input": "2022-08-10T08:19:08.688022Z",
     "iopub.status.busy": "2022-08-10T08:19:08.686658Z",
     "iopub.status.idle": "2022-08-10T08:19:11.234058Z",
     "shell.execute_reply": "2022-08-10T08:19:11.233082Z"
    },
    "papermill": {
     "duration": 2.561786,
     "end_time": "2022-08-10T08:19:11.236517",
     "exception": false,
     "start_time": "2022-08-10T08:19:08.674731",
     "status": "completed"
    },
    "tags": []
   },
   "outputs": [],
   "source": [
    "anime_df = pd.read_csv(\"../input/anime-recommendations-database/anime.csv\")\n",
    "rating_df = pd.read_csv(\"../input/anime-recommendations-database/rating.csv\")"
   ]
  },
  {
   "cell_type": "markdown",
   "id": "b1e67a3b",
   "metadata": {
    "papermill": {
     "duration": 0.011281,
     "end_time": "2022-08-10T08:19:11.259532",
     "exception": false,
     "start_time": "2022-08-10T08:19:11.248251",
     "status": "completed"
    },
    "tags": []
   },
   "source": [
    "## Deskripsi Data\n",
    "\n",
    "Pada file Anime.csv, terdapat variabel-variabel sebagai berikut:\n",
    "\n",
    "- anime_id : Merupakan identifier unik film anime.\n",
    "- name : Merupakan judul lengkap anime.\n",
    "- genre : Merupakan genre anime.\n",
    "- type : Merupakan jenis anime (OVA, TV, Movie).\n",
    "- episodes : Merupakan jumlah episode anime tersebut.\n",
    "- rating : Merupakan rerata nilai yang didapatkan anime tersebut.\n",
    "- members : Jumlah anggota yang berada pada \"grup\" anime tersebut."
   ]
  },
  {
   "cell_type": "code",
   "execution_count": 3,
   "id": "bbb8da82",
   "metadata": {
    "execution": {
     "iopub.execute_input": "2022-08-10T08:19:11.284159Z",
     "iopub.status.busy": "2022-08-10T08:19:11.283812Z",
     "iopub.status.idle": "2022-08-10T08:19:11.306130Z",
     "shell.execute_reply": "2022-08-10T08:19:11.304887Z"
    },
    "papermill": {
     "duration": 0.038632,
     "end_time": "2022-08-10T08:19:11.309919",
     "exception": false,
     "start_time": "2022-08-10T08:19:11.271287",
     "status": "completed"
    },
    "tags": []
   },
   "outputs": [
    {
     "data": {
      "text/html": [
       "<div>\n",
       "<style scoped>\n",
       "    .dataframe tbody tr th:only-of-type {\n",
       "        vertical-align: middle;\n",
       "    }\n",
       "\n",
       "    .dataframe tbody tr th {\n",
       "        vertical-align: top;\n",
       "    }\n",
       "\n",
       "    .dataframe thead th {\n",
       "        text-align: right;\n",
       "    }\n",
       "</style>\n",
       "<table border=\"1\" class=\"dataframe\">\n",
       "  <thead>\n",
       "    <tr style=\"text-align: right;\">\n",
       "      <th></th>\n",
       "      <th>anime_id</th>\n",
       "      <th>name</th>\n",
       "      <th>genre</th>\n",
       "      <th>type</th>\n",
       "      <th>episodes</th>\n",
       "      <th>rating</th>\n",
       "      <th>members</th>\n",
       "    </tr>\n",
       "  </thead>\n",
       "  <tbody>\n",
       "    <tr>\n",
       "      <th>0</th>\n",
       "      <td>32281</td>\n",
       "      <td>Kimi no Na wa.</td>\n",
       "      <td>Drama, Romance, School, Supernatural</td>\n",
       "      <td>Movie</td>\n",
       "      <td>1</td>\n",
       "      <td>9.37</td>\n",
       "      <td>200630</td>\n",
       "    </tr>\n",
       "    <tr>\n",
       "      <th>1</th>\n",
       "      <td>5114</td>\n",
       "      <td>Fullmetal Alchemist: Brotherhood</td>\n",
       "      <td>Action, Adventure, Drama, Fantasy, Magic, Mili...</td>\n",
       "      <td>TV</td>\n",
       "      <td>64</td>\n",
       "      <td>9.26</td>\n",
       "      <td>793665</td>\n",
       "    </tr>\n",
       "    <tr>\n",
       "      <th>2</th>\n",
       "      <td>28977</td>\n",
       "      <td>Gintama°</td>\n",
       "      <td>Action, Comedy, Historical, Parody, Samurai, S...</td>\n",
       "      <td>TV</td>\n",
       "      <td>51</td>\n",
       "      <td>9.25</td>\n",
       "      <td>114262</td>\n",
       "    </tr>\n",
       "    <tr>\n",
       "      <th>3</th>\n",
       "      <td>9253</td>\n",
       "      <td>Steins;Gate</td>\n",
       "      <td>Sci-Fi, Thriller</td>\n",
       "      <td>TV</td>\n",
       "      <td>24</td>\n",
       "      <td>9.17</td>\n",
       "      <td>673572</td>\n",
       "    </tr>\n",
       "    <tr>\n",
       "      <th>4</th>\n",
       "      <td>9969</td>\n",
       "      <td>Gintama&amp;#039;</td>\n",
       "      <td>Action, Comedy, Historical, Parody, Samurai, S...</td>\n",
       "      <td>TV</td>\n",
       "      <td>51</td>\n",
       "      <td>9.16</td>\n",
       "      <td>151266</td>\n",
       "    </tr>\n",
       "    <tr>\n",
       "      <th>5</th>\n",
       "      <td>32935</td>\n",
       "      <td>Haikyuu!!: Karasuno Koukou VS Shiratorizawa Ga...</td>\n",
       "      <td>Comedy, Drama, School, Shounen, Sports</td>\n",
       "      <td>TV</td>\n",
       "      <td>10</td>\n",
       "      <td>9.15</td>\n",
       "      <td>93351</td>\n",
       "    </tr>\n",
       "    <tr>\n",
       "      <th>6</th>\n",
       "      <td>11061</td>\n",
       "      <td>Hunter x Hunter (2011)</td>\n",
       "      <td>Action, Adventure, Shounen, Super Power</td>\n",
       "      <td>TV</td>\n",
       "      <td>148</td>\n",
       "      <td>9.13</td>\n",
       "      <td>425855</td>\n",
       "    </tr>\n",
       "    <tr>\n",
       "      <th>7</th>\n",
       "      <td>820</td>\n",
       "      <td>Ginga Eiyuu Densetsu</td>\n",
       "      <td>Drama, Military, Sci-Fi, Space</td>\n",
       "      <td>OVA</td>\n",
       "      <td>110</td>\n",
       "      <td>9.11</td>\n",
       "      <td>80679</td>\n",
       "    </tr>\n",
       "    <tr>\n",
       "      <th>8</th>\n",
       "      <td>15335</td>\n",
       "      <td>Gintama Movie: Kanketsu-hen - Yorozuya yo Eien...</td>\n",
       "      <td>Action, Comedy, Historical, Parody, Samurai, S...</td>\n",
       "      <td>Movie</td>\n",
       "      <td>1</td>\n",
       "      <td>9.10</td>\n",
       "      <td>72534</td>\n",
       "    </tr>\n",
       "    <tr>\n",
       "      <th>9</th>\n",
       "      <td>15417</td>\n",
       "      <td>Gintama&amp;#039;: Enchousen</td>\n",
       "      <td>Action, Comedy, Historical, Parody, Samurai, S...</td>\n",
       "      <td>TV</td>\n",
       "      <td>13</td>\n",
       "      <td>9.11</td>\n",
       "      <td>81109</td>\n",
       "    </tr>\n",
       "  </tbody>\n",
       "</table>\n",
       "</div>"
      ],
      "text/plain": [
       "   anime_id                                               name  \\\n",
       "0     32281                                     Kimi no Na wa.   \n",
       "1      5114                   Fullmetal Alchemist: Brotherhood   \n",
       "2     28977                                           Gintama°   \n",
       "3      9253                                        Steins;Gate   \n",
       "4      9969                                      Gintama&#039;   \n",
       "5     32935  Haikyuu!!: Karasuno Koukou VS Shiratorizawa Ga...   \n",
       "6     11061                             Hunter x Hunter (2011)   \n",
       "7       820                               Ginga Eiyuu Densetsu   \n",
       "8     15335  Gintama Movie: Kanketsu-hen - Yorozuya yo Eien...   \n",
       "9     15417                           Gintama&#039;: Enchousen   \n",
       "\n",
       "                                               genre   type episodes  rating  \\\n",
       "0               Drama, Romance, School, Supernatural  Movie        1    9.37   \n",
       "1  Action, Adventure, Drama, Fantasy, Magic, Mili...     TV       64    9.26   \n",
       "2  Action, Comedy, Historical, Parody, Samurai, S...     TV       51    9.25   \n",
       "3                                   Sci-Fi, Thriller     TV       24    9.17   \n",
       "4  Action, Comedy, Historical, Parody, Samurai, S...     TV       51    9.16   \n",
       "5             Comedy, Drama, School, Shounen, Sports     TV       10    9.15   \n",
       "6            Action, Adventure, Shounen, Super Power     TV      148    9.13   \n",
       "7                     Drama, Military, Sci-Fi, Space    OVA      110    9.11   \n",
       "8  Action, Comedy, Historical, Parody, Samurai, S...  Movie        1    9.10   \n",
       "9  Action, Comedy, Historical, Parody, Samurai, S...     TV       13    9.11   \n",
       "\n",
       "   members  \n",
       "0   200630  \n",
       "1   793665  \n",
       "2   114262  \n",
       "3   673572  \n",
       "4   151266  \n",
       "5    93351  \n",
       "6   425855  \n",
       "7    80679  \n",
       "8    72534  \n",
       "9    81109  "
      ]
     },
     "execution_count": 3,
     "metadata": {},
     "output_type": "execute_result"
    }
   ],
   "source": [
    "anime_df.head(10)"
   ]
  },
  {
   "cell_type": "markdown",
   "id": "c90679b1",
   "metadata": {
    "papermill": {
     "duration": 0.012987,
     "end_time": "2022-08-10T08:19:11.336130",
     "exception": false,
     "start_time": "2022-08-10T08:19:11.323143",
     "status": "completed"
    },
    "tags": []
   },
   "source": [
    "Pada file Rating.csv, terdapat variabel-variabel sebagai berikut:\n",
    "\n",
    "- user_id : Merupakan identifier yang dibuat secara random sebagai user_id.\n",
    "- anime_id : Merupakan identifier anime yang diberikan nilai oleh pengguna.\n",
    "- rating : Merupakan nilai yang diberikan oleh pengguna, memiliki skala hingga 10 serta nilai -1 jika user menonton dan tidak memberikan rating."
   ]
  },
  {
   "cell_type": "code",
   "execution_count": 4,
   "id": "3c73be4a",
   "metadata": {
    "execution": {
     "iopub.execute_input": "2022-08-10T08:19:11.364765Z",
     "iopub.status.busy": "2022-08-10T08:19:11.363785Z",
     "iopub.status.idle": "2022-08-10T08:19:11.374301Z",
     "shell.execute_reply": "2022-08-10T08:19:11.373135Z"
    },
    "papermill": {
     "duration": 0.027301,
     "end_time": "2022-08-10T08:19:11.377055",
     "exception": false,
     "start_time": "2022-08-10T08:19:11.349754",
     "status": "completed"
    },
    "tags": []
   },
   "outputs": [
    {
     "data": {
      "text/html": [
       "<div>\n",
       "<style scoped>\n",
       "    .dataframe tbody tr th:only-of-type {\n",
       "        vertical-align: middle;\n",
       "    }\n",
       "\n",
       "    .dataframe tbody tr th {\n",
       "        vertical-align: top;\n",
       "    }\n",
       "\n",
       "    .dataframe thead th {\n",
       "        text-align: right;\n",
       "    }\n",
       "</style>\n",
       "<table border=\"1\" class=\"dataframe\">\n",
       "  <thead>\n",
       "    <tr style=\"text-align: right;\">\n",
       "      <th></th>\n",
       "      <th>user_id</th>\n",
       "      <th>anime_id</th>\n",
       "      <th>rating</th>\n",
       "    </tr>\n",
       "  </thead>\n",
       "  <tbody>\n",
       "    <tr>\n",
       "      <th>0</th>\n",
       "      <td>1</td>\n",
       "      <td>20</td>\n",
       "      <td>-1</td>\n",
       "    </tr>\n",
       "    <tr>\n",
       "      <th>1</th>\n",
       "      <td>1</td>\n",
       "      <td>24</td>\n",
       "      <td>-1</td>\n",
       "    </tr>\n",
       "    <tr>\n",
       "      <th>2</th>\n",
       "      <td>1</td>\n",
       "      <td>79</td>\n",
       "      <td>-1</td>\n",
       "    </tr>\n",
       "    <tr>\n",
       "      <th>3</th>\n",
       "      <td>1</td>\n",
       "      <td>226</td>\n",
       "      <td>-1</td>\n",
       "    </tr>\n",
       "    <tr>\n",
       "      <th>4</th>\n",
       "      <td>1</td>\n",
       "      <td>241</td>\n",
       "      <td>-1</td>\n",
       "    </tr>\n",
       "    <tr>\n",
       "      <th>5</th>\n",
       "      <td>1</td>\n",
       "      <td>355</td>\n",
       "      <td>-1</td>\n",
       "    </tr>\n",
       "    <tr>\n",
       "      <th>6</th>\n",
       "      <td>1</td>\n",
       "      <td>356</td>\n",
       "      <td>-1</td>\n",
       "    </tr>\n",
       "    <tr>\n",
       "      <th>7</th>\n",
       "      <td>1</td>\n",
       "      <td>442</td>\n",
       "      <td>-1</td>\n",
       "    </tr>\n",
       "    <tr>\n",
       "      <th>8</th>\n",
       "      <td>1</td>\n",
       "      <td>487</td>\n",
       "      <td>-1</td>\n",
       "    </tr>\n",
       "    <tr>\n",
       "      <th>9</th>\n",
       "      <td>1</td>\n",
       "      <td>846</td>\n",
       "      <td>-1</td>\n",
       "    </tr>\n",
       "  </tbody>\n",
       "</table>\n",
       "</div>"
      ],
      "text/plain": [
       "   user_id  anime_id  rating\n",
       "0        1        20      -1\n",
       "1        1        24      -1\n",
       "2        1        79      -1\n",
       "3        1       226      -1\n",
       "4        1       241      -1\n",
       "5        1       355      -1\n",
       "6        1       356      -1\n",
       "7        1       442      -1\n",
       "8        1       487      -1\n",
       "9        1       846      -1"
      ]
     },
     "execution_count": 4,
     "metadata": {},
     "output_type": "execute_result"
    }
   ],
   "source": [
    "rating_df.head(10)"
   ]
  },
  {
   "cell_type": "markdown",
   "id": "7aa3b07e",
   "metadata": {
    "papermill": {
     "duration": 0.011563,
     "end_time": "2022-08-10T08:19:11.400954",
     "exception": false,
     "start_time": "2022-08-10T08:19:11.389391",
     "status": "completed"
    },
    "tags": []
   },
   "source": [
    "## Memeriksa Jumlah Data\n",
    "\n",
    "Berdasarkan hipotesis solusi yang diajukan menggunakan pendekatan *Collaborative Filtering* maka fitur-fitur yang akan diperiksa adalah sebagai berikut.\n",
    "1. Jumlah seluruh data penilaian terhadap *anime*\n",
    "2. Jumlah user identifier\n",
    "3. Jumlah anime identifier"
   ]
  },
  {
   "cell_type": "code",
   "execution_count": 5,
   "id": "ed09654c",
   "metadata": {
    "execution": {
     "iopub.execute_input": "2022-08-10T08:19:11.441946Z",
     "iopub.status.busy": "2022-08-10T08:19:11.441570Z",
     "iopub.status.idle": "2022-08-10T08:19:11.503031Z",
     "shell.execute_reply": "2022-08-10T08:19:11.501893Z"
    },
    "papermill": {
     "duration": 0.077771,
     "end_time": "2022-08-10T08:19:11.506052",
     "exception": false,
     "start_time": "2022-08-10T08:19:11.428281",
     "status": "completed"
    },
    "tags": []
   },
   "outputs": [
    {
     "name": "stdout",
     "output_type": "stream",
     "text": [
      "Jumlah seluruh data penilaian anime: 7813737\n",
      "Jumlah identifier unik user: 73515\n",
      "Jumlah identifier unik anime: 12294\n"
     ]
    }
   ],
   "source": [
    "print(\"Jumlah seluruh data penilaian anime: {}\".format(len(rating_df[\"user_id\"])))\n",
    "print(\"Jumlah identifier unik user: {}\".format(len(rating_df[\"user_id\"].unique())))\n",
    "print(\"Jumlah identifier unik anime: {}\".format(len(anime_df[\"anime_id\"].unique())))"
   ]
  },
  {
   "cell_type": "markdown",
   "id": "9663c581",
   "metadata": {
    "papermill": {
     "duration": 0.013455,
     "end_time": "2022-08-10T08:19:11.533016",
     "exception": false,
     "start_time": "2022-08-10T08:19:11.519561",
     "status": "completed"
    },
    "tags": []
   },
   "source": [
    "## Memeriksa Keadaan Data\n",
    "\n",
    "Memeriksa keadaan dataset apakah terdapat *Missing Value*."
   ]
  },
  {
   "cell_type": "code",
   "execution_count": 6,
   "id": "68234ebc",
   "metadata": {
    "execution": {
     "iopub.execute_input": "2022-08-10T08:19:11.562293Z",
     "iopub.status.busy": "2022-08-10T08:19:11.561093Z",
     "iopub.status.idle": "2022-08-10T08:19:11.588540Z",
     "shell.execute_reply": "2022-08-10T08:19:11.586543Z"
    },
    "papermill": {
     "duration": 0.045059,
     "end_time": "2022-08-10T08:19:11.591387",
     "exception": false,
     "start_time": "2022-08-10T08:19:11.546328",
     "status": "completed"
    },
    "tags": []
   },
   "outputs": [
    {
     "name": "stdout",
     "output_type": "stream",
     "text": [
      "<class 'pandas.core.frame.DataFrame'>\n",
      "RangeIndex: 12294 entries, 0 to 12293\n",
      "Data columns (total 7 columns):\n",
      " #   Column    Non-Null Count  Dtype  \n",
      "---  ------    --------------  -----  \n",
      " 0   anime_id  12294 non-null  int64  \n",
      " 1   name      12294 non-null  object \n",
      " 2   genre     12232 non-null  object \n",
      " 3   type      12269 non-null  object \n",
      " 4   episodes  12294 non-null  object \n",
      " 5   rating    12064 non-null  float64\n",
      " 6   members   12294 non-null  int64  \n",
      "dtypes: float64(1), int64(2), object(4)\n",
      "memory usage: 672.5+ KB\n"
     ]
    }
   ],
   "source": [
    "anime_df.info()"
   ]
  },
  {
   "cell_type": "code",
   "execution_count": 7,
   "id": "28455fa8",
   "metadata": {
    "execution": {
     "iopub.execute_input": "2022-08-10T08:19:11.622041Z",
     "iopub.status.busy": "2022-08-10T08:19:11.621503Z",
     "iopub.status.idle": "2022-08-10T08:19:11.633588Z",
     "shell.execute_reply": "2022-08-10T08:19:11.632279Z"
    },
    "papermill": {
     "duration": 0.030565,
     "end_time": "2022-08-10T08:19:11.636748",
     "exception": false,
     "start_time": "2022-08-10T08:19:11.606183",
     "status": "completed"
    },
    "tags": []
   },
   "outputs": [
    {
     "name": "stdout",
     "output_type": "stream",
     "text": [
      "<class 'pandas.core.frame.DataFrame'>\n",
      "RangeIndex: 7813737 entries, 0 to 7813736\n",
      "Data columns (total 3 columns):\n",
      " #   Column    Dtype\n",
      "---  ------    -----\n",
      " 0   user_id   int64\n",
      " 1   anime_id  int64\n",
      " 2   rating    int64\n",
      "dtypes: int64(3)\n",
      "memory usage: 178.8 MB\n"
     ]
    }
   ],
   "source": [
    "rating_df.info()"
   ]
  },
  {
   "cell_type": "code",
   "execution_count": 8,
   "id": "ef1a7985",
   "metadata": {
    "execution": {
     "iopub.execute_input": "2022-08-10T08:19:11.668998Z",
     "iopub.status.busy": "2022-08-10T08:19:11.667161Z",
     "iopub.status.idle": "2022-08-10T08:19:11.707818Z",
     "shell.execute_reply": "2022-08-10T08:19:11.706621Z"
    },
    "papermill": {
     "duration": 0.059463,
     "end_time": "2022-08-10T08:19:11.710679",
     "exception": false,
     "start_time": "2022-08-10T08:19:11.651216",
     "status": "completed"
    },
    "tags": []
   },
   "outputs": [
    {
     "data": {
      "text/plain": [
       "user_id     0\n",
       "anime_id    0\n",
       "rating      0\n",
       "dtype: int64"
      ]
     },
     "execution_count": 8,
     "metadata": {},
     "output_type": "execute_result"
    }
   ],
   "source": [
    "rating_df.isnull().sum()"
   ]
  },
  {
   "cell_type": "markdown",
   "id": "ef9e6fcb",
   "metadata": {
    "papermill": {
     "duration": 0.012923,
     "end_time": "2022-08-10T08:19:11.736863",
     "exception": false,
     "start_time": "2022-08-10T08:19:11.723940",
     "status": "completed"
    },
    "tags": []
   },
   "source": [
    "# Data Cleaning"
   ]
  },
  {
   "cell_type": "markdown",
   "id": "ffc7fc77",
   "metadata": {
    "papermill": {
     "duration": 0.01362,
     "end_time": "2022-08-10T08:19:11.763933",
     "exception": false,
     "start_time": "2022-08-10T08:19:11.750313",
     "status": "completed"
    },
    "tags": []
   },
   "source": [
    "## Mengatasi Anime yang Tidak Diberi Nilai\n",
    "\n",
    "Berdasarkan metadata singkat dataset, terdapat rating -1 yang berarti pengguna menonton *anime* tersebut namun tidak menilai *anime* tersebut. Hal ini akan menjadi masalah, karena kita tidak mengetahui apakah pengguna tersebut menyukai *anime* tersebut. "
   ]
  },
  {
   "cell_type": "code",
   "execution_count": 9,
   "id": "2054fb52",
   "metadata": {
    "execution": {
     "iopub.execute_input": "2022-08-10T08:19:11.792742Z",
     "iopub.status.busy": "2022-08-10T08:19:11.792402Z",
     "iopub.status.idle": "2022-08-10T08:19:11.905159Z",
     "shell.execute_reply": "2022-08-10T08:19:11.904008Z"
    },
    "papermill": {
     "duration": 0.130035,
     "end_time": "2022-08-10T08:19:11.907693",
     "exception": false,
     "start_time": "2022-08-10T08:19:11.777658",
     "status": "completed"
    },
    "tags": []
   },
   "outputs": [
    {
     "data": {
      "text/plain": [
       "1476496"
      ]
     },
     "execution_count": 9,
     "metadata": {},
     "output_type": "execute_result"
    }
   ],
   "source": [
    "len(rating_df[rating_df[\"rating\"] == -1])"
   ]
  },
  {
   "cell_type": "code",
   "execution_count": 10,
   "id": "4b9743b1",
   "metadata": {
    "execution": {
     "iopub.execute_input": "2022-08-10T08:19:11.936439Z",
     "iopub.status.busy": "2022-08-10T08:19:11.935818Z",
     "iopub.status.idle": "2022-08-10T08:19:12.005001Z",
     "shell.execute_reply": "2022-08-10T08:19:12.004010Z"
    },
    "papermill": {
     "duration": 0.085846,
     "end_time": "2022-08-10T08:19:12.007359",
     "exception": false,
     "start_time": "2022-08-10T08:19:11.921513",
     "status": "completed"
    },
    "tags": []
   },
   "outputs": [
    {
     "data": {
      "text/plain": [
       "18.896156858107716"
      ]
     },
     "execution_count": 10,
     "metadata": {},
     "output_type": "execute_result"
    }
   ],
   "source": [
    "len(rating_df[rating_df[\"rating\"] == -1]) / len(rating_df) * 100"
   ]
  },
  {
   "cell_type": "code",
   "execution_count": 11,
   "id": "f5a006c3",
   "metadata": {
    "execution": {
     "iopub.execute_input": "2022-08-10T08:19:12.037579Z",
     "iopub.status.busy": "2022-08-10T08:19:12.036858Z",
     "iopub.status.idle": "2022-08-10T08:19:12.302510Z",
     "shell.execute_reply": "2022-08-10T08:19:12.301192Z"
    },
    "papermill": {
     "duration": 0.283499,
     "end_time": "2022-08-10T08:19:12.305267",
     "exception": false,
     "start_time": "2022-08-10T08:19:12.021768",
     "status": "completed"
    },
    "tags": []
   },
   "outputs": [
    {
     "name": "stdout",
     "output_type": "stream",
     "text": [
      "Jumlah data yang memiliki poitif rating: 6337241\n",
      "Jumlah data yang memiliki negatif rating: 1476496\n",
      "Jumlah identifier unik pada data negatif rating: 10697\n"
     ]
    }
   ],
   "source": [
    "neg_rating = rating_df[rating_df[\"rating\"] == -1]\n",
    "pos_rating = rating_df[rating_df[\"rating\"] != -1]\n",
    "\n",
    "print(\"Jumlah data yang memiliki poitif rating: {}\".format(len(pos_rating)))\n",
    "print(\"Jumlah data yang memiliki negatif rating: {}\".format(len(neg_rating)))\n",
    "print(\"Jumlah identifier unik pada data negatif rating: {}\".format(len(neg_rating[\"anime_id\"].unique())))"
   ]
  },
  {
   "cell_type": "code",
   "execution_count": 12,
   "id": "7a86eac2",
   "metadata": {
    "execution": {
     "iopub.execute_input": "2022-08-10T08:19:12.334710Z",
     "iopub.status.busy": "2022-08-10T08:19:12.333973Z",
     "iopub.status.idle": "2022-08-10T08:19:12.344923Z",
     "shell.execute_reply": "2022-08-10T08:19:12.343780Z"
    },
    "papermill": {
     "duration": 0.027883,
     "end_time": "2022-08-10T08:19:12.347453",
     "exception": false,
     "start_time": "2022-08-10T08:19:12.319570",
     "status": "completed"
    },
    "tags": []
   },
   "outputs": [
    {
     "data": {
      "text/html": [
       "<div>\n",
       "<style scoped>\n",
       "    .dataframe tbody tr th:only-of-type {\n",
       "        vertical-align: middle;\n",
       "    }\n",
       "\n",
       "    .dataframe tbody tr th {\n",
       "        vertical-align: top;\n",
       "    }\n",
       "\n",
       "    .dataframe thead th {\n",
       "        text-align: right;\n",
       "    }\n",
       "</style>\n",
       "<table border=\"1\" class=\"dataframe\">\n",
       "  <thead>\n",
       "    <tr style=\"text-align: right;\">\n",
       "      <th></th>\n",
       "      <th>user_id</th>\n",
       "      <th>anime_id</th>\n",
       "      <th>rating</th>\n",
       "    </tr>\n",
       "  </thead>\n",
       "  <tbody>\n",
       "    <tr>\n",
       "      <th>0</th>\n",
       "      <td>1</td>\n",
       "      <td>20</td>\n",
       "      <td>-1</td>\n",
       "    </tr>\n",
       "    <tr>\n",
       "      <th>1</th>\n",
       "      <td>1</td>\n",
       "      <td>24</td>\n",
       "      <td>-1</td>\n",
       "    </tr>\n",
       "    <tr>\n",
       "      <th>2</th>\n",
       "      <td>1</td>\n",
       "      <td>79</td>\n",
       "      <td>-1</td>\n",
       "    </tr>\n",
       "    <tr>\n",
       "      <th>3</th>\n",
       "      <td>1</td>\n",
       "      <td>226</td>\n",
       "      <td>-1</td>\n",
       "    </tr>\n",
       "    <tr>\n",
       "      <th>4</th>\n",
       "      <td>1</td>\n",
       "      <td>241</td>\n",
       "      <td>-1</td>\n",
       "    </tr>\n",
       "  </tbody>\n",
       "</table>\n",
       "</div>"
      ],
      "text/plain": [
       "   user_id  anime_id  rating\n",
       "0        1        20      -1\n",
       "1        1        24      -1\n",
       "2        1        79      -1\n",
       "3        1       226      -1\n",
       "4        1       241      -1"
      ]
     },
     "execution_count": 12,
     "metadata": {},
     "output_type": "execute_result"
    }
   ],
   "source": [
    "neg_rating.head(5)"
   ]
  },
  {
   "cell_type": "code",
   "execution_count": 13,
   "id": "8e1f5128",
   "metadata": {
    "execution": {
     "iopub.execute_input": "2022-08-10T08:19:12.376768Z",
     "iopub.status.busy": "2022-08-10T08:19:12.376474Z",
     "iopub.status.idle": "2022-08-10T08:19:12.783331Z",
     "shell.execute_reply": "2022-08-10T08:19:12.782189Z"
    },
    "papermill": {
     "duration": 0.424472,
     "end_time": "2022-08-10T08:19:12.786183",
     "exception": false,
     "start_time": "2022-08-10T08:19:12.361711",
     "status": "completed"
    },
    "tags": []
   },
   "outputs": [
    {
     "name": "stdout",
     "output_type": "stream",
     "text": [
      "Panjang sebelum menghilangkan missing value: 10694\n",
      "Panjang setelah menghilangkan missing value: 10693\n",
      "Merubah tipe data rating_y dari float menjadi int!\n"
     ]
    }
   ],
   "source": [
    "merge_rating = neg_rating.merge(anime_df, on=\"anime_id\")\n",
    "\n",
    "merge_rating = merge_rating[[\"user_id\", \"anime_id\", \"rating_y\"]]\n",
    "print(\"Panjang sebelum menghilangkan missing value: {}\".format(len(merge_rating[\"anime_id\"].unique())))\n",
    "\n",
    "merge_rating = merge_rating.dropna(subset=[\"rating_y\"])\n",
    "print(\"Panjang setelah menghilangkan missing value: {}\".format(len(merge_rating[\"anime_id\"].unique())))\n",
    "\n",
    "merge_rating[\"rating_y\"] = merge_rating[\"rating_y\"].astype(\"int64\")\n",
    "print(\"Merubah tipe data rating_y dari float menjadi int!\")"
   ]
  },
  {
   "cell_type": "code",
   "execution_count": 14,
   "id": "123678b2",
   "metadata": {
    "execution": {
     "iopub.execute_input": "2022-08-10T08:19:12.820435Z",
     "iopub.status.busy": "2022-08-10T08:19:12.819278Z",
     "iopub.status.idle": "2022-08-10T08:19:12.839408Z",
     "shell.execute_reply": "2022-08-10T08:19:12.837889Z"
    },
    "papermill": {
     "duration": 0.040666,
     "end_time": "2022-08-10T08:19:12.842634",
     "exception": false,
     "start_time": "2022-08-10T08:19:12.801968",
     "status": "completed"
    },
    "tags": []
   },
   "outputs": [
    {
     "name": "stdout",
     "output_type": "stream",
     "text": [
      "<class 'pandas.core.frame.DataFrame'>\n",
      "Int64Index: 1476487 entries, 0 to 1476487\n",
      "Data columns (total 3 columns):\n",
      " #   Column    Non-Null Count    Dtype\n",
      "---  ------    --------------    -----\n",
      " 0   user_id   1476487 non-null  int64\n",
      " 1   anime_id  1476487 non-null  int64\n",
      " 2   rating_y  1476487 non-null  int64\n",
      "dtypes: int64(3)\n",
      "memory usage: 45.1 MB\n"
     ]
    }
   ],
   "source": [
    "merge_rating.info()"
   ]
  },
  {
   "cell_type": "code",
   "execution_count": 15,
   "id": "eade6c33",
   "metadata": {
    "execution": {
     "iopub.execute_input": "2022-08-10T08:19:12.874681Z",
     "iopub.status.busy": "2022-08-10T08:19:12.874369Z",
     "iopub.status.idle": "2022-08-10T08:19:12.906795Z",
     "shell.execute_reply": "2022-08-10T08:19:12.905581Z"
    },
    "papermill": {
     "duration": 0.050842,
     "end_time": "2022-08-10T08:19:12.909997",
     "exception": false,
     "start_time": "2022-08-10T08:19:12.859155",
     "status": "completed"
    },
    "tags": []
   },
   "outputs": [],
   "source": [
    "merge_rating = merge_rating.rename(columns={\"rating_y\":\"rating\"})"
   ]
  },
  {
   "cell_type": "code",
   "execution_count": 16,
   "id": "655071b5",
   "metadata": {
    "execution": {
     "iopub.execute_input": "2022-08-10T08:19:12.942743Z",
     "iopub.status.busy": "2022-08-10T08:19:12.940430Z",
     "iopub.status.idle": "2022-08-10T08:19:13.019305Z",
     "shell.execute_reply": "2022-08-10T08:19:13.017552Z"
    },
    "papermill": {
     "duration": 0.097503,
     "end_time": "2022-08-10T08:19:13.021770",
     "exception": false,
     "start_time": "2022-08-10T08:19:12.924267",
     "status": "completed"
    },
    "tags": []
   },
   "outputs": [
    {
     "name": "stdout",
     "output_type": "stream",
     "text": [
      "Jumlah data setelah dilakukan penggabungan data 7813728\n"
     ]
    }
   ],
   "source": [
    "prepared_df = pd.concat([pos_rating, merge_rating], ignore_index=True)\n",
    "\n",
    "print(\"Jumlah data setelah dilakukan penggabungan data {}\".format(len(prepared_df)))"
   ]
  },
  {
   "cell_type": "code",
   "execution_count": 17,
   "id": "9ea50a81",
   "metadata": {
    "execution": {
     "iopub.execute_input": "2022-08-10T08:19:13.052094Z",
     "iopub.status.busy": "2022-08-10T08:19:13.051497Z",
     "iopub.status.idle": "2022-08-10T08:19:13.062496Z",
     "shell.execute_reply": "2022-08-10T08:19:13.061366Z"
    },
    "papermill": {
     "duration": 0.028672,
     "end_time": "2022-08-10T08:19:13.064692",
     "exception": false,
     "start_time": "2022-08-10T08:19:13.036020",
     "status": "completed"
    },
    "tags": []
   },
   "outputs": [
    {
     "data": {
      "text/html": [
       "<div>\n",
       "<style scoped>\n",
       "    .dataframe tbody tr th:only-of-type {\n",
       "        vertical-align: middle;\n",
       "    }\n",
       "\n",
       "    .dataframe tbody tr th {\n",
       "        vertical-align: top;\n",
       "    }\n",
       "\n",
       "    .dataframe thead th {\n",
       "        text-align: right;\n",
       "    }\n",
       "</style>\n",
       "<table border=\"1\" class=\"dataframe\">\n",
       "  <thead>\n",
       "    <tr style=\"text-align: right;\">\n",
       "      <th></th>\n",
       "      <th>user_id</th>\n",
       "      <th>anime_id</th>\n",
       "      <th>rating</th>\n",
       "    </tr>\n",
       "  </thead>\n",
       "  <tbody>\n",
       "    <tr>\n",
       "      <th>0</th>\n",
       "      <td>1</td>\n",
       "      <td>8074</td>\n",
       "      <td>10</td>\n",
       "    </tr>\n",
       "    <tr>\n",
       "      <th>1</th>\n",
       "      <td>1</td>\n",
       "      <td>11617</td>\n",
       "      <td>10</td>\n",
       "    </tr>\n",
       "    <tr>\n",
       "      <th>2</th>\n",
       "      <td>1</td>\n",
       "      <td>11757</td>\n",
       "      <td>10</td>\n",
       "    </tr>\n",
       "    <tr>\n",
       "      <th>3</th>\n",
       "      <td>1</td>\n",
       "      <td>15451</td>\n",
       "      <td>10</td>\n",
       "    </tr>\n",
       "    <tr>\n",
       "      <th>4</th>\n",
       "      <td>2</td>\n",
       "      <td>11771</td>\n",
       "      <td>10</td>\n",
       "    </tr>\n",
       "    <tr>\n",
       "      <th>5</th>\n",
       "      <td>3</td>\n",
       "      <td>20</td>\n",
       "      <td>8</td>\n",
       "    </tr>\n",
       "    <tr>\n",
       "      <th>6</th>\n",
       "      <td>3</td>\n",
       "      <td>154</td>\n",
       "      <td>6</td>\n",
       "    </tr>\n",
       "    <tr>\n",
       "      <th>7</th>\n",
       "      <td>3</td>\n",
       "      <td>170</td>\n",
       "      <td>9</td>\n",
       "    </tr>\n",
       "    <tr>\n",
       "      <th>8</th>\n",
       "      <td>3</td>\n",
       "      <td>199</td>\n",
       "      <td>10</td>\n",
       "    </tr>\n",
       "    <tr>\n",
       "      <th>9</th>\n",
       "      <td>3</td>\n",
       "      <td>225</td>\n",
       "      <td>9</td>\n",
       "    </tr>\n",
       "  </tbody>\n",
       "</table>\n",
       "</div>"
      ],
      "text/plain": [
       "   user_id  anime_id  rating\n",
       "0        1      8074      10\n",
       "1        1     11617      10\n",
       "2        1     11757      10\n",
       "3        1     15451      10\n",
       "4        2     11771      10\n",
       "5        3        20       8\n",
       "6        3       154       6\n",
       "7        3       170       9\n",
       "8        3       199      10\n",
       "9        3       225       9"
      ]
     },
     "execution_count": 17,
     "metadata": {},
     "output_type": "execute_result"
    }
   ],
   "source": [
    "prepared_df.head(10)"
   ]
  },
  {
   "cell_type": "markdown",
   "id": "cce2150f",
   "metadata": {
    "papermill": {
     "duration": 0.014227,
     "end_time": "2022-08-10T08:19:13.093142",
     "exception": false,
     "start_time": "2022-08-10T08:19:13.078915",
     "status": "completed"
    },
    "tags": []
   },
   "source": [
    "# Eksplorasi Data: Univariate Analysis\n",
    "\n",
    "Memvisualisasikan ketersebaran rating terhadap jumlah data yang ada."
   ]
  },
  {
   "cell_type": "markdown",
   "id": "8d5869d3",
   "metadata": {
    "papermill": {
     "duration": 0.013832,
     "end_time": "2022-08-10T08:19:13.121151",
     "exception": false,
     "start_time": "2022-08-10T08:19:13.107319",
     "status": "completed"
    },
    "tags": []
   },
   "source": [
    "### Melihat Ketersebaran Data Rating"
   ]
  },
  {
   "cell_type": "code",
   "execution_count": 18,
   "id": "0c1dcfd4",
   "metadata": {
    "execution": {
     "iopub.execute_input": "2022-08-10T08:19:13.150822Z",
     "iopub.status.busy": "2022-08-10T08:19:13.150089Z",
     "iopub.status.idle": "2022-08-10T08:19:13.572230Z",
     "shell.execute_reply": "2022-08-10T08:19:13.570893Z"
    },
    "papermill": {
     "duration": 0.440357,
     "end_time": "2022-08-10T08:19:13.575158",
     "exception": false,
     "start_time": "2022-08-10T08:19:13.134801",
     "status": "completed"
    },
    "tags": []
   },
   "outputs": [
    {
     "data": {
      "text/plain": [
       "<AxesSubplot:title={'center':'Distribution of Rating'}, xlabel='rating'>"
      ]
     },
     "execution_count": 18,
     "metadata": {},
     "output_type": "execute_result"
    },
    {
     "data": {
      "image/png": "[encoded data removed]",
      "text/plain": [
       "<Figure size 432x288 with 1 Axes>"
      ]
     },
     "metadata": {
      "needs_background": "light"
     },
     "output_type": "display_data"
    }
   ],
   "source": [
    "prepared_df.groupby(\"rating\").size().plot(kind=\"bar\", title=\"Distribution of Rating\")"
   ]
  },
  {
   "cell_type": "code",
   "execution_count": 19,
   "id": "7861c6ab",
   "metadata": {
    "execution": {
     "iopub.execute_input": "2022-08-10T08:19:13.612562Z",
     "iopub.status.busy": "2022-08-10T08:19:13.611938Z",
     "iopub.status.idle": "2022-08-10T08:19:13.696674Z",
     "shell.execute_reply": "2022-08-10T08:19:13.695216Z"
    },
    "papermill": {
     "duration": 0.107342,
     "end_time": "2022-08-10T08:19:13.700430",
     "exception": false,
     "start_time": "2022-08-10T08:19:13.593088",
     "status": "completed"
    },
    "tags": []
   },
   "outputs": [
    {
     "data": {
      "text/plain": [
       "7     28.140729\n",
       "8     25.842594\n",
       "9     16.196430\n",
       "10    12.231229\n",
       "6     11.252887\n",
       "5      3.918910\n",
       "4      1.363792\n",
       "3      0.541227\n",
       "2      0.299089\n",
       "1      0.213112\n",
       "Name: rating, dtype: float64"
      ]
     },
     "execution_count": 19,
     "metadata": {},
     "output_type": "execute_result"
    }
   ],
   "source": [
    "prepared_df[\"rating\"].value_counts() / len(prepared_df) * 100"
   ]
  },
  {
   "cell_type": "markdown",
   "id": "c66c847e",
   "metadata": {
    "papermill": {
     "duration": 0.016484,
     "end_time": "2022-08-10T08:19:13.734747",
     "exception": false,
     "start_time": "2022-08-10T08:19:13.718263",
     "status": "completed"
    },
    "tags": []
   },
   "source": [
    "### Melihat Jenis Anime Terpopuler"
   ]
  },
  {
   "cell_type": "code",
   "execution_count": 20,
   "id": "5ac6c9c4",
   "metadata": {
    "execution": {
     "iopub.execute_input": "2022-08-10T08:19:13.767249Z",
     "iopub.status.busy": "2022-08-10T08:19:13.766914Z",
     "iopub.status.idle": "2022-08-10T08:19:14.177103Z",
     "shell.execute_reply": "2022-08-10T08:19:14.175883Z"
    },
    "papermill": {
     "duration": 0.429432,
     "end_time": "2022-08-10T08:19:14.180052",
     "exception": false,
     "start_time": "2022-08-10T08:19:13.750620",
     "status": "completed"
    },
    "tags": []
   },
   "outputs": [
    {
     "data": {
      "text/plain": [
       "<AxesSubplot:title={'center':'Popular Anime Types'}>"
      ]
     },
     "execution_count": 20,
     "metadata": {},
     "output_type": "execute_result"
    },
    {
     "data": {
      "image/png": "[encoded data removed]",
      "text/plain": [
       "<Figure size 432x288 with 1 Axes>"
      ]
     },
     "metadata": {
      "needs_background": "light"
     },
     "output_type": "display_data"
    }
   ],
   "source": [
    "anime_df[\"type\"].value_counts().plot(kind=\"bar\", title=\"Popular Anime Types\")"
   ]
  },
  {
   "cell_type": "markdown",
   "id": "1083a2f3",
   "metadata": {
    "papermill": {
     "duration": 0.01483,
     "end_time": "2022-08-10T08:19:14.209439",
     "exception": false,
     "start_time": "2022-08-10T08:19:14.194609",
     "status": "completed"
    },
    "tags": []
   },
   "source": [
    "# Data Preparation\n",
    "\n",
    "Mempersiapkan data dimulai dari:\n",
    "1. Pembuatan dictionary encoded baru\n",
    "2. Split data menjadi training dan testing"
   ]
  },
  {
   "cell_type": "markdown",
   "id": "793adefe",
   "metadata": {
    "papermill": {
     "duration": 0.014483,
     "end_time": "2022-08-10T08:19:14.238806",
     "exception": false,
     "start_time": "2022-08-10T08:19:14.224323",
     "status": "completed"
    },
    "tags": []
   },
   "source": [
    "### Encode User_id dan Anime_id\n",
    "\n",
    "Meng-encode fitur user_id dan anime_id menjadi indeks integer. Hal ini dilakukan karena dua hal:\n",
    "1. Sebagai look up dictionary\n",
    "2. Indeks row embedding nantinya akan mengikuti indeks ini"
   ]
  },
  {
   "cell_type": "code",
   "execution_count": 21,
   "id": "6f76f964",
   "metadata": {
    "execution": {
     "iopub.execute_input": "2022-08-10T08:19:14.271500Z",
     "iopub.status.busy": "2022-08-10T08:19:14.270798Z",
     "iopub.status.idle": "2022-08-10T08:19:14.347201Z",
     "shell.execute_reply": "2022-08-10T08:19:14.346017Z"
    },
    "papermill": {
     "duration": 0.095876,
     "end_time": "2022-08-10T08:19:14.349954",
     "exception": false,
     "start_time": "2022-08-10T08:19:14.254078",
     "status": "completed"
    },
    "tags": []
   },
   "outputs": [],
   "source": [
    "encoded_df = prepared_df.copy()"
   ]
  },
  {
   "cell_type": "markdown",
   "id": "e6194229",
   "metadata": {
    "papermill": {
     "duration": 0.015227,
     "end_time": "2022-08-10T08:19:14.381109",
     "exception": false,
     "start_time": "2022-08-10T08:19:14.365882",
     "status": "completed"
    },
    "tags": []
   },
   "source": [
    "Meng-encode menggunakan metode pandas .cat dan .codes. Kolom yang akan di-return indeks dari kolom tersebut."
   ]
  },
  {
   "cell_type": "code",
   "execution_count": 22,
   "id": "21a81292",
   "metadata": {
    "execution": {
     "iopub.execute_input": "2022-08-10T08:19:14.412761Z",
     "iopub.status.busy": "2022-08-10T08:19:14.412004Z",
     "iopub.status.idle": "2022-08-10T08:19:14.754368Z",
     "shell.execute_reply": "2022-08-10T08:19:14.753185Z"
    },
    "papermill": {
     "duration": 0.361428,
     "end_time": "2022-08-10T08:19:14.757395",
     "exception": false,
     "start_time": "2022-08-10T08:19:14.395967",
     "status": "completed"
    },
    "tags": []
   },
   "outputs": [],
   "source": [
    "encoded_df[\"user_id\"] = encoded_df[\"user_id\"].astype(\"category\") \n",
    "encoded_df[\"user_id_encoded\"] = encoded_df[\"user_id\"].cat.codes\n",
    "\n",
    "encoded_df[\"anime_id\"] = encoded_df[\"anime_id\"].astype(\"category\")\n",
    "encoded_df[\"anime_id_encoded\"] = encoded_df[\"anime_id\"].cat.codes"
   ]
  },
  {
   "cell_type": "code",
   "execution_count": 23,
   "id": "0dce739d",
   "metadata": {
    "execution": {
     "iopub.execute_input": "2022-08-10T08:19:14.790344Z",
     "iopub.status.busy": "2022-08-10T08:19:14.789997Z",
     "iopub.status.idle": "2022-08-10T08:19:15.073410Z",
     "shell.execute_reply": "2022-08-10T08:19:15.072010Z"
    },
    "papermill": {
     "duration": 0.30362,
     "end_time": "2022-08-10T08:19:15.077054",
     "exception": false,
     "start_time": "2022-08-10T08:19:14.773434",
     "status": "completed"
    },
    "tags": []
   },
   "outputs": [
    {
     "name": "stdout",
     "output_type": "stream",
     "text": [
      "Jumlah user_id: 73515\n",
      "Jumlah hasil encoded user_id: 73515\n",
      "\n",
      "Jumlah anime_id: 11197\n",
      "Jumlah hasil encoded anime_id: 11197\n"
     ]
    }
   ],
   "source": [
    "print(\"Jumlah user_id: {}\".format(len(encoded_df[\"user_id\"].unique())))\n",
    "print(\"Jumlah hasil encoded user_id: {}\".format(len(encoded_df[\"user_id_encoded\"].unique())))\n",
    "print()\n",
    "print(\"Jumlah anime_id: {}\".format(len(encoded_df[\"anime_id\"].unique())))\n",
    "print(\"Jumlah hasil encoded anime_id: {}\".format(len(encoded_df[\"anime_id_encoded\"].unique())))"
   ]
  },
  {
   "cell_type": "code",
   "execution_count": 24,
   "id": "679f5d29",
   "metadata": {
    "execution": {
     "iopub.execute_input": "2022-08-10T08:19:15.126949Z",
     "iopub.status.busy": "2022-08-10T08:19:15.126368Z",
     "iopub.status.idle": "2022-08-10T08:19:16.115050Z",
     "shell.execute_reply": "2022-08-10T08:19:16.113926Z"
    },
    "papermill": {
     "duration": 1.012892,
     "end_time": "2022-08-10T08:19:16.117243",
     "exception": false,
     "start_time": "2022-08-10T08:19:15.104351",
     "status": "completed"
    },
    "tags": []
   },
   "outputs": [
    {
     "data": {
      "text/html": [
       "<div>\n",
       "<style scoped>\n",
       "    .dataframe tbody tr th:only-of-type {\n",
       "        vertical-align: middle;\n",
       "    }\n",
       "\n",
       "    .dataframe tbody tr th {\n",
       "        vertical-align: top;\n",
       "    }\n",
       "\n",
       "    .dataframe thead th {\n",
       "        text-align: right;\n",
       "    }\n",
       "</style>\n",
       "<table border=\"1\" class=\"dataframe\">\n",
       "  <thead>\n",
       "    <tr style=\"text-align: right;\">\n",
       "      <th></th>\n",
       "      <th>user_id</th>\n",
       "      <th>anime_id</th>\n",
       "      <th>rating</th>\n",
       "      <th>user_id_encoded</th>\n",
       "      <th>anime_id_encoded</th>\n",
       "    </tr>\n",
       "  </thead>\n",
       "  <tbody>\n",
       "    <tr>\n",
       "      <th>0</th>\n",
       "      <td>1</td>\n",
       "      <td>8074</td>\n",
       "      <td>10</td>\n",
       "      <td>0</td>\n",
       "      <td>5214</td>\n",
       "    </tr>\n",
       "    <tr>\n",
       "      <th>6457115</th>\n",
       "      <td>1</td>\n",
       "      <td>14967</td>\n",
       "      <td>7</td>\n",
       "      <td>0</td>\n",
       "      <td>7190</td>\n",
       "    </tr>\n",
       "    <tr>\n",
       "      <th>6458667</th>\n",
       "      <td>1</td>\n",
       "      <td>15117</td>\n",
       "      <td>7</td>\n",
       "      <td>0</td>\n",
       "      <td>7214</td>\n",
       "    </tr>\n",
       "    <tr>\n",
       "      <th>6459339</th>\n",
       "      <td>1</td>\n",
       "      <td>15437</td>\n",
       "      <td>7</td>\n",
       "      <td>0</td>\n",
       "      <td>7253</td>\n",
       "    </tr>\n",
       "    <tr>\n",
       "      <th>6459958</th>\n",
       "      <td>1</td>\n",
       "      <td>15583</td>\n",
       "      <td>7</td>\n",
       "      <td>0</td>\n",
       "      <td>7275</td>\n",
       "    </tr>\n",
       "    <tr>\n",
       "      <th>6461788</th>\n",
       "      <td>1</td>\n",
       "      <td>15609</td>\n",
       "      <td>6</td>\n",
       "      <td>0</td>\n",
       "      <td>7279</td>\n",
       "    </tr>\n",
       "    <tr>\n",
       "      <th>6462044</th>\n",
       "      <td>1</td>\n",
       "      <td>16011</td>\n",
       "      <td>7</td>\n",
       "      <td>0</td>\n",
       "      <td>7357</td>\n",
       "    </tr>\n",
       "    <tr>\n",
       "      <th>6456073</th>\n",
       "      <td>1</td>\n",
       "      <td>14833</td>\n",
       "      <td>7</td>\n",
       "      <td>0</td>\n",
       "      <td>7175</td>\n",
       "    </tr>\n",
       "    <tr>\n",
       "      <th>6462947</th>\n",
       "      <td>1</td>\n",
       "      <td>16498</td>\n",
       "      <td>8</td>\n",
       "      <td>0</td>\n",
       "      <td>7439</td>\n",
       "    </tr>\n",
       "    <tr>\n",
       "      <th>6468225</th>\n",
       "      <td>1</td>\n",
       "      <td>17265</td>\n",
       "      <td>8</td>\n",
       "      <td>0</td>\n",
       "      <td>7614</td>\n",
       "    </tr>\n",
       "  </tbody>\n",
       "</table>\n",
       "</div>"
      ],
      "text/plain": [
       "        user_id anime_id  rating  user_id_encoded  anime_id_encoded\n",
       "0             1     8074      10                0              5214\n",
       "6457115       1    14967       7                0              7190\n",
       "6458667       1    15117       7                0              7214\n",
       "6459339       1    15437       7                0              7253\n",
       "6459958       1    15583       7                0              7275\n",
       "6461788       1    15609       6                0              7279\n",
       "6462044       1    16011       7                0              7357\n",
       "6456073       1    14833       7                0              7175\n",
       "6462947       1    16498       8                0              7439\n",
       "6468225       1    17265       8                0              7614"
      ]
     },
     "execution_count": 24,
     "metadata": {},
     "output_type": "execute_result"
    }
   ],
   "source": [
    "encoded_df.sort_values(\"user_id_encoded\").head(10)"
   ]
  },
  {
   "cell_type": "code",
   "execution_count": 25,
   "id": "8edab2df",
   "metadata": {
    "execution": {
     "iopub.execute_input": "2022-08-10T08:19:16.149341Z",
     "iopub.status.busy": "2022-08-10T08:19:16.148113Z",
     "iopub.status.idle": "2022-08-10T08:19:17.258574Z",
     "shell.execute_reply": "2022-08-10T08:19:17.257386Z"
    },
    "papermill": {
     "duration": 1.128732,
     "end_time": "2022-08-10T08:19:17.261464",
     "exception": false,
     "start_time": "2022-08-10T08:19:16.132732",
     "status": "completed"
    },
    "tags": []
   },
   "outputs": [
    {
     "data": {
      "text/html": [
       "<div>\n",
       "<style scoped>\n",
       "    .dataframe tbody tr th:only-of-type {\n",
       "        vertical-align: middle;\n",
       "    }\n",
       "\n",
       "    .dataframe tbody tr th {\n",
       "        vertical-align: top;\n",
       "    }\n",
       "\n",
       "    .dataframe thead th {\n",
       "        text-align: right;\n",
       "    }\n",
       "</style>\n",
       "<table border=\"1\" class=\"dataframe\">\n",
       "  <thead>\n",
       "    <tr style=\"text-align: right;\">\n",
       "      <th></th>\n",
       "      <th>user_id</th>\n",
       "      <th>anime_id</th>\n",
       "      <th>rating</th>\n",
       "      <th>user_id_encoded</th>\n",
       "      <th>anime_id_encoded</th>\n",
       "    </tr>\n",
       "  </thead>\n",
       "  <tbody>\n",
       "    <tr>\n",
       "      <th>3856156</th>\n",
       "      <td>45525</td>\n",
       "      <td>1</td>\n",
       "      <td>8</td>\n",
       "      <td>45524</td>\n",
       "      <td>0</td>\n",
       "    </tr>\n",
       "    <tr>\n",
       "      <th>6620788</th>\n",
       "      <td>11924</td>\n",
       "      <td>1</td>\n",
       "      <td>8</td>\n",
       "      <td>11923</td>\n",
       "      <td>0</td>\n",
       "    </tr>\n",
       "    <tr>\n",
       "      <th>6620789</th>\n",
       "      <td>11974</td>\n",
       "      <td>1</td>\n",
       "      <td>8</td>\n",
       "      <td>11973</td>\n",
       "      <td>0</td>\n",
       "    </tr>\n",
       "    <tr>\n",
       "      <th>6620790</th>\n",
       "      <td>12007</td>\n",
       "      <td>1</td>\n",
       "      <td>8</td>\n",
       "      <td>12006</td>\n",
       "      <td>0</td>\n",
       "    </tr>\n",
       "    <tr>\n",
       "      <th>6620791</th>\n",
       "      <td>12050</td>\n",
       "      <td>1</td>\n",
       "      <td>8</td>\n",
       "      <td>12049</td>\n",
       "      <td>0</td>\n",
       "    </tr>\n",
       "    <tr>\n",
       "      <th>6620792</th>\n",
       "      <td>12136</td>\n",
       "      <td>1</td>\n",
       "      <td>8</td>\n",
       "      <td>12135</td>\n",
       "      <td>0</td>\n",
       "    </tr>\n",
       "    <tr>\n",
       "      <th>6620793</th>\n",
       "      <td>12154</td>\n",
       "      <td>1</td>\n",
       "      <td>8</td>\n",
       "      <td>12153</td>\n",
       "      <td>0</td>\n",
       "    </tr>\n",
       "    <tr>\n",
       "      <th>1631534</th>\n",
       "      <td>19502</td>\n",
       "      <td>1</td>\n",
       "      <td>10</td>\n",
       "      <td>19501</td>\n",
       "      <td>0</td>\n",
       "    </tr>\n",
       "    <tr>\n",
       "      <th>6620794</th>\n",
       "      <td>12222</td>\n",
       "      <td>1</td>\n",
       "      <td>8</td>\n",
       "      <td>12221</td>\n",
       "      <td>0</td>\n",
       "    </tr>\n",
       "    <tr>\n",
       "      <th>6620795</th>\n",
       "      <td>12254</td>\n",
       "      <td>1</td>\n",
       "      <td>8</td>\n",
       "      <td>12253</td>\n",
       "      <td>0</td>\n",
       "    </tr>\n",
       "  </tbody>\n",
       "</table>\n",
       "</div>"
      ],
      "text/plain": [
       "        user_id anime_id  rating  user_id_encoded  anime_id_encoded\n",
       "3856156   45525        1       8            45524                 0\n",
       "6620788   11924        1       8            11923                 0\n",
       "6620789   11974        1       8            11973                 0\n",
       "6620790   12007        1       8            12006                 0\n",
       "6620791   12050        1       8            12049                 0\n",
       "6620792   12136        1       8            12135                 0\n",
       "6620793   12154        1       8            12153                 0\n",
       "1631534   19502        1      10            19501                 0\n",
       "6620794   12222        1       8            12221                 0\n",
       "6620795   12254        1       8            12253                 0"
      ]
     },
     "execution_count": 25,
     "metadata": {},
     "output_type": "execute_result"
    }
   ],
   "source": [
    "encoded_df.sort_values(\"anime_id_encoded\").head(10)"
   ]
  },
  {
   "cell_type": "markdown",
   "id": "f753ad1d",
   "metadata": {
    "papermill": {
     "duration": 0.013971,
     "end_time": "2022-08-10T08:19:17.289236",
     "exception": false,
     "start_time": "2022-08-10T08:19:17.275265",
     "status": "completed"
    },
    "tags": []
   },
   "source": [
    "### Membangun dictionary sebagai lookup table"
   ]
  },
  {
   "cell_type": "code",
   "execution_count": 26,
   "id": "449f8e57",
   "metadata": {
    "execution": {
     "iopub.execute_input": "2022-08-10T08:19:17.318031Z",
     "iopub.status.busy": "2022-08-10T08:19:17.317665Z",
     "iopub.status.idle": "2022-08-10T08:19:24.306352Z",
     "shell.execute_reply": "2022-08-10T08:19:24.305229Z"
    },
    "papermill": {
     "duration": 7.006071,
     "end_time": "2022-08-10T08:19:24.309029",
     "exception": false,
     "start_time": "2022-08-10T08:19:17.302958",
     "status": "completed"
    },
    "tags": []
   },
   "outputs": [],
   "source": [
    "user_id_decoder = dict(zip(encoded_df[\"user_id_encoded\"], encoded_df[\"user_id\"]))\n",
    "anime_id_decoder = dict(zip(encoded_df[\"anime_id_encoded\"], encoded_df[\"anime_id\"]))\n",
    "\n",
    "user_id_encoder = dict(zip(encoded_df[\"user_id\"], encoded_df[\"user_id_encoded\"]))\n",
    "anime_id_encoder = dict(zip(encoded_df[\"anime_id\"], encoded_df[\"anime_id_encoded\"]))"
   ]
  },
  {
   "cell_type": "markdown",
   "id": "7ecb87f5",
   "metadata": {
    "papermill": {
     "duration": 0.01564,
     "end_time": "2022-08-10T08:19:24.340793",
     "exception": false,
     "start_time": "2022-08-10T08:19:24.325153",
     "status": "completed"
    },
    "tags": []
   },
   "source": [
    "### Splitting Data\n",
    "\n",
    "Splitting data dengan membagi data sesuai representasi keseluruhan data"
   ]
  },
  {
   "cell_type": "code",
   "execution_count": 27,
   "id": "8675865e",
   "metadata": {
    "execution": {
     "iopub.execute_input": "2022-08-10T08:19:24.373814Z",
     "iopub.status.busy": "2022-08-10T08:19:24.373433Z",
     "iopub.status.idle": "2022-08-10T08:19:28.590283Z",
     "shell.execute_reply": "2022-08-10T08:19:28.589097Z"
    },
    "papermill": {
     "duration": 4.236786,
     "end_time": "2022-08-10T08:19:28.593267",
     "exception": false,
     "start_time": "2022-08-10T08:19:24.356481",
     "status": "completed"
    },
    "tags": []
   },
   "outputs": [],
   "source": [
    "encoded_prep_df = encoded_df[[\"user_id_encoded\", \"anime_id_encoded\", \"rating\"]]\n",
    "\n",
    "split = StratifiedShuffleSplit(n_splits=1, test_size=0.1, random_state=42)\n",
    "for train_index, test_index in split.split(encoded_prep_df, encoded_prep_df[\"rating\"]):\n",
    "    strat_train_set = encoded_prep_df.loc[train_index]\n",
    "    strat_test_set = encoded_prep_df.loc[test_index]"
   ]
  },
  {
   "cell_type": "markdown",
   "id": "a554fcfa",
   "metadata": {
    "papermill": {
     "duration": 0.015776,
     "end_time": "2022-08-10T08:19:28.625439",
     "exception": false,
     "start_time": "2022-08-10T08:19:28.609663",
     "status": "completed"
    },
    "tags": []
   },
   "source": [
    "Hasil pembagian data secara strata"
   ]
  },
  {
   "cell_type": "code",
   "execution_count": 28,
   "id": "74f248dd",
   "metadata": {
    "execution": {
     "iopub.execute_input": "2022-08-10T08:19:28.659126Z",
     "iopub.status.busy": "2022-08-10T08:19:28.658716Z",
     "iopub.status.idle": "2022-08-10T08:19:28.820582Z",
     "shell.execute_reply": "2022-08-10T08:19:28.819341Z"
    },
    "papermill": {
     "duration": 0.182104,
     "end_time": "2022-08-10T08:19:28.823591",
     "exception": false,
     "start_time": "2022-08-10T08:19:28.641487",
     "status": "completed"
    },
    "tags": []
   },
   "outputs": [
    {
     "data": {
      "text/plain": [
       "rating\n",
       "1      0.213115\n",
       "2      0.299089\n",
       "3      0.541227\n",
       "4      1.363796\n",
       "5      3.918915\n",
       "6     11.252888\n",
       "7     28.140730\n",
       "8     25.842595\n",
       "9     16.196424\n",
       "10    12.231223\n",
       "dtype: float64"
      ]
     },
     "execution_count": 28,
     "metadata": {},
     "output_type": "execute_result"
    }
   ],
   "source": [
    "strat_train_set.groupby(\"rating\").size() / len(strat_train_set) * 100"
   ]
  },
  {
   "cell_type": "code",
   "execution_count": 29,
   "id": "dee6bf9d",
   "metadata": {
    "execution": {
     "iopub.execute_input": "2022-08-10T08:19:28.858195Z",
     "iopub.status.busy": "2022-08-10T08:19:28.857786Z",
     "iopub.status.idle": "2022-08-10T08:19:28.881206Z",
     "shell.execute_reply": "2022-08-10T08:19:28.879860Z"
    },
    "papermill": {
     "duration": 0.044236,
     "end_time": "2022-08-10T08:19:28.884129",
     "exception": false,
     "start_time": "2022-08-10T08:19:28.839893",
     "status": "completed"
    },
    "tags": []
   },
   "outputs": [
    {
     "data": {
      "text/plain": [
       "rating\n",
       "1      0.213086\n",
       "2      0.299089\n",
       "3      0.541227\n",
       "4      1.363753\n",
       "5      3.918871\n",
       "6     11.252884\n",
       "7     28.140722\n",
       "8     25.842587\n",
       "9     16.196490\n",
       "10    12.231290\n",
       "dtype: float64"
      ]
     },
     "execution_count": 29,
     "metadata": {},
     "output_type": "execute_result"
    }
   ],
   "source": [
    "strat_test_set.groupby(\"rating\").size() / len(strat_test_set) * 100"
   ]
  },
  {
   "cell_type": "code",
   "execution_count": 30,
   "id": "96d2ccb6",
   "metadata": {
    "execution": {
     "iopub.execute_input": "2022-08-10T08:19:28.919735Z",
     "iopub.status.busy": "2022-08-10T08:19:28.918738Z",
     "iopub.status.idle": "2022-08-10T08:19:30.542244Z",
     "shell.execute_reply": "2022-08-10T08:19:30.541017Z"
    },
    "papermill": {
     "duration": 1.643922,
     "end_time": "2022-08-10T08:19:30.545194",
     "exception": false,
     "start_time": "2022-08-10T08:19:28.901272",
     "status": "completed"
    },
    "tags": []
   },
   "outputs": [],
   "source": [
    "X_train = strat_train_set[[\"user_id_encoded\", \"anime_id_encoded\"]].to_numpy()\n",
    "y_train = strat_train_set[\"rating\"].to_numpy()\n",
    "y_train = (y_train - min(y_train)) / (max(y_train) - min(y_train))\n",
    "\n",
    "X_test = strat_test_set[[\"user_id_encoded\", \"anime_id_encoded\"]].to_numpy()\n",
    "y_test = strat_test_set[\"rating\"].to_numpy()\n",
    "y_test = (y_test - min(y_test)) / (max(y_test) - min(y_test))"
   ]
  },
  {
   "cell_type": "markdown",
   "id": "21548a85",
   "metadata": {
    "papermill": {
     "duration": 0.016554,
     "end_time": "2022-08-10T08:19:30.580095",
     "exception": false,
     "start_time": "2022-08-10T08:19:30.563541",
     "status": "completed"
    },
    "tags": []
   },
   "source": [
    "### Hasil Data Preparation dalam bentuk Numpy"
   ]
  },
  {
   "cell_type": "code",
   "execution_count": 31,
   "id": "6245b931",
   "metadata": {
    "execution": {
     "iopub.execute_input": "2022-08-10T08:19:30.615039Z",
     "iopub.status.busy": "2022-08-10T08:19:30.613936Z",
     "iopub.status.idle": "2022-08-10T08:19:30.621579Z",
     "shell.execute_reply": "2022-08-10T08:19:30.620164Z"
    },
    "papermill": {
     "duration": 0.028656,
     "end_time": "2022-08-10T08:19:30.625027",
     "exception": false,
     "start_time": "2022-08-10T08:19:30.596371",
     "status": "completed"
    },
    "tags": []
   },
   "outputs": [
    {
     "name": "stdout",
     "output_type": "stream",
     "text": [
      "[[64750  8853]\n",
      " [45299  3752]\n",
      " [64540 10883]\n",
      " ...\n",
      " [28562  6216]\n",
      " [ 7132   278]\n",
      " [48029  2703]] [0.55555556 1.         0.77777778 ... 0.77777778 0.88888889 0.77777778]\n"
     ]
    }
   ],
   "source": [
    "print(X_train, y_train)"
   ]
  },
  {
   "cell_type": "markdown",
   "id": "e05701c7",
   "metadata": {
    "papermill": {
     "duration": 0.016075,
     "end_time": "2022-08-10T08:19:30.657862",
     "exception": false,
     "start_time": "2022-08-10T08:19:30.641787",
     "status": "completed"
    },
    "tags": []
   },
   "source": [
    "# Modelling Data\n",
    "\n",
    "Pada bagian ini akan dilakukan modelling menggunakan pendekatan Deep Learning:\n",
    "1. RecommenderNet\n",
    "2. Probabilistic Matrix Factorization"
   ]
  },
  {
   "cell_type": "code",
   "execution_count": 32,
   "id": "52b96ef2",
   "metadata": {
    "execution": {
     "iopub.execute_input": "2022-08-10T08:19:30.692416Z",
     "iopub.status.busy": "2022-08-10T08:19:30.691331Z",
     "iopub.status.idle": "2022-08-10T08:19:30.697336Z",
     "shell.execute_reply": "2022-08-10T08:19:30.696304Z"
    },
    "papermill": {
     "duration": 0.025967,
     "end_time": "2022-08-10T08:19:30.699720",
     "exception": false,
     "start_time": "2022-08-10T08:19:30.673753",
     "status": "completed"
    },
    "tags": []
   },
   "outputs": [],
   "source": [
    "## Global Variable\n",
    "\n",
    "NUM_USERS = len(user_id_encoder)\n",
    "NUM_ITEMS = len(anime_id_decoder)\n",
    "EMBEDDING_SIZE = 100"
   ]
  },
  {
   "cell_type": "markdown",
   "id": "f6f999fc",
   "metadata": {
    "papermill": {
     "duration": 0.015688,
     "end_time": "2022-08-10T08:19:30.731627",
     "exception": false,
     "start_time": "2022-08-10T08:19:30.715939",
     "status": "completed"
    },
    "tags": []
   },
   "source": [
    "## RecommenderNet"
   ]
  },
  {
   "cell_type": "code",
   "execution_count": 33,
   "id": "aa543d79",
   "metadata": {
    "execution": {
     "iopub.execute_input": "2022-08-10T08:19:30.765752Z",
     "iopub.status.busy": "2022-08-10T08:19:30.764671Z",
     "iopub.status.idle": "2022-08-10T08:19:31.796426Z",
     "shell.execute_reply": "2022-08-10T08:19:31.795263Z"
    },
    "papermill": {
     "duration": 1.051245,
     "end_time": "2022-08-10T08:19:31.798813",
     "exception": false,
     "start_time": "2022-08-10T08:19:30.747568",
     "status": "completed"
    },
    "tags": []
   },
   "outputs": [],
   "source": [
    "class RecommenderNet(tf.keras.Model):\n",
    "    def __init__(self, n_users, n_items, embedding_size, **kwargs):\n",
    "        super(RecommenderNet, self).__init__(**kwargs)\n",
    "        self.n_users = n_users\n",
    "        self.n_items = n_items\n",
    "        self.embedding_size = embedding_size\n",
    "        \n",
    "        self.user_embedding = keras.layers.Embedding(n_users,\n",
    "                                                     embedding_size,\n",
    "                                                     embeddings_initializer = 'he_normal',\n",
    "                                                     embeddings_regularizer = keras.regularizers.l2(1e-6))\n",
    "        \n",
    "        self.user_bias = keras.layers.Embedding(n_users, 1)\n",
    "        \n",
    "        self.items_embedding = keras.layers.Embedding(n_items,\n",
    "                                                      embedding_size,\n",
    "                                                      embeddings_initializer = 'he_normal',\n",
    "                                                      embeddings_regularizer = keras.regularizers.l2(1e-6))\n",
    "        self.items_bias = keras.layers.Embedding(n_items, 1)\n",
    "    \n",
    "    def call(self, inputs):\n",
    "        user_vector = self.user_embedding(inputs[:,0])\n",
    "        user_bias = self.user_bias(inputs[:, 0])\n",
    "        item_vector = self.items_embedding(inputs[:, 1])\n",
    "        item_bias = self.items_bias(inputs[:, 1])\n",
    "\n",
    "        dot_user_resto = tf.tensordot(user_vector, item_vector, 2) \n",
    "\n",
    "        x = dot_user_resto + user_bias + item_bias\n",
    "\n",
    "        return tf.nn.sigmoid(x)"
   ]
  },
  {
   "cell_type": "code",
   "execution_count": 34,
   "id": "3bc91195",
   "metadata": {
    "execution": {
     "iopub.execute_input": "2022-08-10T08:19:31.832761Z",
     "iopub.status.busy": "2022-08-10T08:19:31.832336Z",
     "iopub.status.idle": "2022-08-10T08:19:35.293747Z",
     "shell.execute_reply": "2022-08-10T08:19:35.290715Z"
    },
    "papermill": {
     "duration": 3.482675,
     "end_time": "2022-08-10T08:19:35.297825",
     "exception": false,
     "start_time": "2022-08-10T08:19:31.815150",
     "status": "completed"
    },
    "tags": []
   },
   "outputs": [
    {
     "name": "stderr",
     "output_type": "stream",
     "text": [
      "2022-08-10 08:19:31.934804: I tensorflow/stream_executor/cuda/cuda_gpu_executor.cc:937] successful NUMA node read from SysFS had negative value (-1), but there must be at least one NUMA node, so returning NUMA node zero\n",
      "2022-08-10 08:19:32.079500: I tensorflow/stream_executor/cuda/cuda_gpu_executor.cc:937] successful NUMA node read from SysFS had negative value (-1), but there must be at least one NUMA node, so returning NUMA node zero\n",
      "2022-08-10 08:19:32.080449: I tensorflow/stream_executor/cuda/cuda_gpu_executor.cc:937] successful NUMA node read from SysFS had negative value (-1), but there must be at least one NUMA node, so returning NUMA node zero\n",
      "2022-08-10 08:19:32.082207: I tensorflow/core/platform/cpu_feature_guard.cc:142] This TensorFlow binary is optimized with oneAPI Deep Neural Network Library (oneDNN) to use the following CPU instructions in performance-critical operations:  AVX2 AVX512F FMA\n",
      "To enable them in other operations, rebuild TensorFlow with the appropriate compiler flags.\n",
      "2022-08-10 08:19:32.082551: I tensorflow/stream_executor/cuda/cuda_gpu_executor.cc:937] successful NUMA node read from SysFS had negative value (-1), but there must be at least one NUMA node, so returning NUMA node zero\n",
      "2022-08-10 08:19:32.083423: I tensorflow/stream_executor/cuda/cuda_gpu_executor.cc:937] successful NUMA node read from SysFS had negative value (-1), but there must be at least one NUMA node, so returning NUMA node zero\n",
      "2022-08-10 08:19:32.084218: I tensorflow/stream_executor/cuda/cuda_gpu_executor.cc:937] successful NUMA node read from SysFS had negative value (-1), but there must be at least one NUMA node, so returning NUMA node zero\n",
      "2022-08-10 08:19:34.777614: I tensorflow/stream_executor/cuda/cuda_gpu_executor.cc:937] successful NUMA node read from SysFS had negative value (-1), but there must be at least one NUMA node, so returning NUMA node zero\n",
      "2022-08-10 08:19:34.779018: I tensorflow/stream_executor/cuda/cuda_gpu_executor.cc:937] successful NUMA node read from SysFS had negative value (-1), but there must be at least one NUMA node, so returning NUMA node zero\n",
      "2022-08-10 08:19:34.779947: I tensorflow/stream_executor/cuda/cuda_gpu_executor.cc:937] successful NUMA node read from SysFS had negative value (-1), but there must be at least one NUMA node, so returning NUMA node zero\n",
      "2022-08-10 08:19:34.780750: I tensorflow/core/common_runtime/gpu/gpu_device.cc:1510] Created device /job:localhost/replica:0/task:0/device:GPU:0 with 15403 MB memory:  -> device: 0, name: Tesla P100-PCIE-16GB, pci bus id: 0000:00:04.0, compute capability: 6.0\n"
     ]
    }
   ],
   "source": [
    "recommender_net = RecommenderNet(NUM_USERS, NUM_ITEMS, EMBEDDING_SIZE)\n",
    "\n",
    "recommender_net.compile(loss=tf.keras.losses.BinaryCrossentropy(),\n",
    "                        optimizer=tf.keras.optimizers.Adam(learning_rate=0.001),\n",
    "                        metrics=[tf.keras.metrics.RootMeanSquaredError()])"
   ]
  },
  {
   "cell_type": "code",
   "execution_count": 35,
   "id": "b62a1bad",
   "metadata": {
    "execution": {
     "iopub.execute_input": "2022-08-10T08:19:35.336713Z",
     "iopub.status.busy": "2022-08-10T08:19:35.335954Z",
     "iopub.status.idle": "2022-08-10T08:38:59.138708Z",
     "shell.execute_reply": "2022-08-10T08:38:59.137512Z"
    },
    "papermill": {
     "duration": 1163.82542,
     "end_time": "2022-08-10T08:38:59.141547",
     "exception": false,
     "start_time": "2022-08-10T08:19:35.316127",
     "status": "completed"
    },
    "tags": []
   },
   "outputs": [
    {
     "name": "stderr",
     "output_type": "stream",
     "text": [
      "2022-08-10 08:19:35.690954: I tensorflow/compiler/mlir/mlir_graph_optimization_pass.cc:185] None of the MLIR Optimization Passes are enabled (registered 2)\n"
     ]
    },
    {
     "name": "stdout",
     "output_type": "stream",
     "text": [
      "219762/219762 [==============================] - 1108s 5ms/step - loss: 0.6968 - root_mean_squared_error: 0.2215 - val_loss: 0.8094 - val_root_mean_squared_error: 0.2626\n"
     ]
    }
   ],
   "source": [
    "recommender_net_hist = recommender_net.fit(X_train, y_train,\n",
    "                                           epochs=1,\n",
    "                                           validation_data=(X_test, y_test))"
   ]
  },
  {
   "cell_type": "markdown",
   "id": "fffadcb3",
   "metadata": {
    "papermill": {
     "duration": 1.232273,
     "end_time": "2022-08-10T08:39:01.558313",
     "exception": false,
     "start_time": "2022-08-10T08:39:00.326040",
     "status": "completed"
    },
    "tags": []
   },
   "source": [
    "## Probabilistic Matrix Factorization"
   ]
  },
  {
   "cell_type": "code",
   "execution_count": 36,
   "id": "709cefc8",
   "metadata": {
    "execution": {
     "iopub.execute_input": "2022-08-10T08:39:04.351361Z",
     "iopub.status.busy": "2022-08-10T08:39:04.350768Z",
     "iopub.status.idle": "2022-08-10T08:39:04.366173Z",
     "shell.execute_reply": "2022-08-10T08:39:04.365086Z"
    },
    "papermill": {
     "duration": 1.544688,
     "end_time": "2022-08-10T08:39:04.368386",
     "exception": false,
     "start_time": "2022-08-10T08:39:02.823698",
     "status": "completed"
    },
    "tags": []
   },
   "outputs": [],
   "source": [
    "class PMF(tf.keras.Model):\n",
    "    def __init__(self, n_users, n_items, n_dim):\n",
    "        super(PMF, self).__init__()      \n",
    "        self.w_u_i_init = tf.keras.initializers.RandomUniform(minval=-1., maxval=1., seed=1)\n",
    "        \n",
    "        self.user_embedding = tf.keras.layers.Embedding(n_users,\n",
    "                                                        n_dim,\n",
    "                                                        embeddings_initializer='uniform',\n",
    "                                                        embeddings_regularizer=tf.keras.regularizers.L2(0.1))\n",
    "      \n",
    "        self.item_embedding = tf.keras.layers.Embedding(n_items,\n",
    "                                                        n_dim,\n",
    "                                                        embeddings_initializer='uniform',\n",
    "                                                        embeddings_regularizer=tf.keras.regularizers.L2(0.1))\n",
    "        \n",
    "        ## users embedding\n",
    "        self.ub = tf.keras.layers.Embedding(n_users, \n",
    "                                            1, \n",
    "                                            embeddings_initializer=self.w_u_i_init, \n",
    "                                            embeddings_regularizer=tf.keras.regularizers.L2(0.1)) \n",
    "        ## items embedding\n",
    "        self.ib = tf.keras.layers.Embedding(n_items, \n",
    "                                            1, \n",
    "                                            embeddings_initializer=self.w_u_i_init, \n",
    "                                            embeddings_regularizer=tf.keras.regularizers.L2(0.1))\n",
    "        \n",
    "    def call(self, inputs):\n",
    "        self.user_index = inputs[:, 0]\n",
    "        self.item_index = inputs[:, 1]\n",
    "        \n",
    "        user_h1 = self.user_embedding(self.user_index)\n",
    "        item_h1 = self.item_embedding(self.item_index)\n",
    "        \n",
    "        r_h = tf.math.reduce_sum(user_h1 * item_h1, axis=1 if len(user_h1.shape) > 1 else 0)\n",
    "        r_h += tf.squeeze(self.ub(self.user_index))\n",
    "        r_h += tf.squeeze(self.ib(self.item_index))\n",
    "        \n",
    "        return tf.nn.sigmoid(r_h)"
   ]
  },
  {
   "cell_type": "code",
   "execution_count": 37,
   "id": "e466f7b0",
   "metadata": {
    "execution": {
     "iopub.execute_input": "2022-08-10T08:39:07.353492Z",
     "iopub.status.busy": "2022-08-10T08:39:07.352828Z",
     "iopub.status.idle": "2022-08-10T08:39:07.388154Z",
     "shell.execute_reply": "2022-08-10T08:39:07.387031Z"
    },
    "papermill": {
     "duration": 1.799719,
     "end_time": "2022-08-10T08:39:07.391020",
     "exception": false,
     "start_time": "2022-08-10T08:39:05.591301",
     "status": "completed"
    },
    "tags": []
   },
   "outputs": [],
   "source": [
    "keras.backend.clear_session()\n",
    "\n",
    "pmf = PMF(NUM_USERS, NUM_ITEMS, EMBEDDING_SIZE)\n",
    "\n",
    "pmf.compile(loss=tf.keras.losses.BinaryCrossentropy(),\n",
    "            optimizer='adam',\n",
    "            metrics=[tf.keras.metrics.RootMeanSquaredError()])"
   ]
  },
  {
   "cell_type": "code",
   "execution_count": 38,
   "id": "391bfe40",
   "metadata": {
    "execution": {
     "iopub.execute_input": "2022-08-10T08:39:09.890969Z",
     "iopub.status.busy": "2022-08-10T08:39:09.890356Z",
     "iopub.status.idle": "2022-08-10T08:57:45.346950Z",
     "shell.execute_reply": "2022-08-10T08:57:45.345819Z"
    },
    "papermill": {
     "duration": 1119.542979,
     "end_time": "2022-08-10T08:57:48.178365",
     "exception": false,
     "start_time": "2022-08-10T08:39:08.635386",
     "status": "completed"
    },
    "tags": []
   },
   "outputs": [
    {
     "name": "stdout",
     "output_type": "stream",
     "text": [
      "219762/219762 [==============================] - 1115s 5ms/step - loss: 4.6252 - root_mean_squared_error: 0.2915 - val_loss: 0.6956 - val_root_mean_squared_error: 0.2914\n"
     ]
    }
   ],
   "source": [
    "pmf_hist = pmf.fit(X_train, y_train,\n",
    "                   epochs=1,\n",
    "                   validation_data=(X_test, y_test))"
   ]
  },
  {
   "cell_type": "markdown",
   "id": "140a2c62",
   "metadata": {
    "papermill": {
     "duration": 2.397434,
     "end_time": "2022-08-10T08:57:52.849183",
     "exception": false,
     "start_time": "2022-08-10T08:57:50.451749",
     "status": "completed"
    },
    "tags": []
   },
   "source": [
    "# Evaluasi Model"
   ]
  },
  {
   "cell_type": "code",
   "execution_count": 39,
   "id": "9d1c3608",
   "metadata": {
    "execution": {
     "iopub.execute_input": "2022-08-10T08:57:57.676693Z",
     "iopub.status.busy": "2022-08-10T08:57:57.676155Z",
     "iopub.status.idle": "2022-08-10T08:57:57.684982Z",
     "shell.execute_reply": "2022-08-10T08:57:57.683890Z"
    },
    "papermill": {
     "duration": 2.559957,
     "end_time": "2022-08-10T08:57:57.687234",
     "exception": false,
     "start_time": "2022-08-10T08:57:55.127277",
     "status": "completed"
    },
    "tags": []
   },
   "outputs": [],
   "source": [
    "def plot_model(history):\n",
    "    plt.plot(history.history['root_mean_squared_error'])\n",
    "    plt.plot(history.history['val_root_mean_squared_error'])\n",
    "    plt.title('model_metrics')\n",
    "    plt.ylabel('root_mean_squared_error')\n",
    "    plt.xlabel('epoch')\n",
    "    plt.legend(['train', 'test'], loc='upper left')\n",
    "    plt.show()"
   ]
  },
  {
   "cell_type": "code",
   "execution_count": 40,
   "id": "ed36e056",
   "metadata": {
    "execution": {
     "iopub.execute_input": "2022-08-10T08:58:02.307047Z",
     "iopub.status.busy": "2022-08-10T08:58:02.306450Z",
     "iopub.status.idle": "2022-08-10T08:58:02.504286Z",
     "shell.execute_reply": "2022-08-10T08:58:02.503398Z"
    },
    "papermill": {
     "duration": 2.567176,
     "end_time": "2022-08-10T08:58:02.506600",
     "exception": false,
     "start_time": "2022-08-10T08:57:59.939424",
     "status": "completed"
    },
    "tags": []
   },
   "outputs": [
    {
     "data": {
      "image/png": "[encoded data removed]",
      "text/plain": [
       "<Figure size 432x288 with 1 Axes>"
      ]
     },
     "metadata": {
      "needs_background": "light"
     },
     "output_type": "display_data"
    }
   ],
   "source": [
    "plot_model(pmf_hist)"
   ]
  },
  {
   "cell_type": "code",
   "execution_count": 41,
   "id": "743b9c70",
   "metadata": {
    "execution": {
     "iopub.execute_input": "2022-08-10T08:58:07.719952Z",
     "iopub.status.busy": "2022-08-10T08:58:07.719581Z",
     "iopub.status.idle": "2022-08-10T08:58:07.912786Z",
     "shell.execute_reply": "2022-08-10T08:58:07.911749Z"
    },
    "papermill": {
     "duration": 2.963513,
     "end_time": "2022-08-10T08:58:07.915091",
     "exception": false,
     "start_time": "2022-08-10T08:58:04.951578",
     "status": "completed"
    },
    "tags": []
   },
   "outputs": [
    {
     "data": {
      "image/png": "[encoded data removed]",
      "text/plain": [
       "<Figure size 432x288 with 1 Axes>"
      ]
     },
     "metadata": {
      "needs_background": "light"
     },
     "output_type": "display_data"
    }
   ],
   "source": [
    "plot_model(recommender_net_hist)"
   ]
  },
  {
   "cell_type": "markdown",
   "id": "a587abff",
   "metadata": {
    "papermill": {
     "duration": 2.25611,
     "end_time": "2022-08-10T08:58:12.484584",
     "exception": false,
     "start_time": "2022-08-10T08:58:10.228474",
     "status": "completed"
    },
    "tags": []
   },
   "source": [
    "# Recommendation Result"
   ]
  },
  {
   "cell_type": "code",
   "execution_count": 42,
   "id": "c5df9798",
   "metadata": {
    "execution": {
     "iopub.execute_input": "2022-08-10T08:58:17.111111Z",
     "iopub.status.busy": "2022-08-10T08:58:17.109960Z",
     "iopub.status.idle": "2022-08-10T08:58:18.599847Z",
     "shell.execute_reply": "2022-08-10T08:58:18.598891Z"
    },
    "papermill": {
     "duration": 3.777135,
     "end_time": "2022-08-10T08:58:18.602184",
     "exception": false,
     "start_time": "2022-08-10T08:58:14.825049",
     "status": "completed"
    },
    "tags": []
   },
   "outputs": [],
   "source": [
    "user_id = rating_df[\"user_id\"].sample(1).iloc[0]\n",
    "anime_watched_by_user = rating_df[rating_df[\"user_id\"] == user_id]\n",
    "anime_not_watched = rating_df[~rating_df[\"anime_id\"].isin(anime_watched_by_user[\"anime_id\"].values)][\"anime_id\"]\n",
    "anime_not_watched = list(\n",
    "    set(anime_not_watched).intersection(set(anime_id_encoder.keys()))\n",
    ")\n",
    "anime_not_watched = [[anime_id_encoder.get(x)] for x in anime_not_watched]\n",
    "user_encoder = user_id_encoder.get(user_id)\n",
    "user_anime_array = np.hstack(\n",
    "    ([[user_encoder]] * len(anime_not_watched), anime_not_watched)\n",
    ")"
   ]
  },
  {
   "cell_type": "code",
   "execution_count": 43,
   "id": "6c036357",
   "metadata": {
    "execution": {
     "iopub.execute_input": "2022-08-10T08:58:23.645679Z",
     "iopub.status.busy": "2022-08-10T08:58:23.645071Z",
     "iopub.status.idle": "2022-08-10T08:58:24.210679Z",
     "shell.execute_reply": "2022-08-10T08:58:24.209685Z"
    },
    "papermill": {
     "duration": 2.857303,
     "end_time": "2022-08-10T08:58:24.213094",
     "exception": false,
     "start_time": "2022-08-10T08:58:21.355791",
     "status": "completed"
    },
    "tags": []
   },
   "outputs": [],
   "source": [
    "ratings = recommender_net.predict(user_anime_array).flatten()\n",
    "top_ratings_indices = ratings.argsort()[-10:][::-1]\n",
    "recommended_anime_ids = [\n",
    "    anime_id_decoder.get(anime_not_watched[x][0]) for x in top_ratings_indices\n",
    "]"
   ]
  },
  {
   "cell_type": "code",
   "execution_count": 44,
   "id": "5131622d",
   "metadata": {
    "execution": {
     "iopub.execute_input": "2022-08-10T08:58:28.865787Z",
     "iopub.status.busy": "2022-08-10T08:58:28.865238Z",
     "iopub.status.idle": "2022-08-10T08:58:28.893741Z",
     "shell.execute_reply": "2022-08-10T08:58:28.892502Z"
    },
    "papermill": {
     "duration": 2.347955,
     "end_time": "2022-08-10T08:58:28.900250",
     "exception": false,
     "start_time": "2022-08-10T08:58:26.552295",
     "status": "completed"
    },
    "tags": []
   },
   "outputs": [
    {
     "name": "stdout",
     "output_type": "stream",
     "text": [
      "Showing recommendations for user: 49280\n",
      "====================================\n",
      "Movies with high ratings from user\n",
      "--------------------------------\n",
      "Haikyuu!! Second Season : Comedy, Drama, School, Shounen, Sports\n",
      "Haikyuu!! : Comedy, Drama, School, Shounen, Sports\n",
      "Cross Game : Comedy, Drama, Romance, School, Sports\n",
      "Baby Steps : Romance, School, Shounen, Sports\n",
      "Akagami no Shirayuki-hime : Drama, Fantasy, Romance, Shoujo\n",
      "--------------------------------\n",
      "Top 10 movie recommendations\n",
      "--------------------------------\n",
      "Kimi no Na wa. : Drama, Romance, School, Supernatural\n",
      "One Punch Man : Action, Comedy, Parody, Sci-Fi, Seinen, Super Power, Supernatural\n",
      "Detective Conan Movie 06: The Phantom of Baker Street : Adventure, Mystery, Police, Shounen\n",
      "Detective Conan Movie 05: Countdown to Heaven : Adventure, Comedy, Mystery, Police, Shounen\n",
      "Detective Conan Movie 08: Magician of the Silver Sky : Adventure, Comedy, Mystery, Police, Shounen\n",
      "Detective Conan Movie 04: Captured in Her Eyes : Adventure, Comedy, Mystery, Police, Shounen\n",
      "Detective Conan Movie 07: Crossroad in the Ancient Capital : Adventure, Comedy, Mystery, Police, Shounen\n",
      "Jinrui wa Suitai Shimashita : Comedy, Fantasy, Seinen\n",
      "Hakuouki Sekkaroku : Action, Demons, Drama, Fantasy, Historical, Josei\n",
      "Uta no☆Prince-sama♪ Maji Love 1000% : Comedy, Harem, Music, Romance, School, Shoujo\n"
     ]
    }
   ],
   "source": [
    "print(\"Showing recommendations for user: {}\".format(user_id))\n",
    "print(\"====\" * 9)\n",
    "print(\"Movies with high ratings from user\")\n",
    "print(\"----\" * 8)\n",
    "top_anime_user = (\n",
    "    anime_watched_by_user.sort_values(by=\"rating\", ascending=False)\n",
    "    .head(5)\n",
    "    .anime_id.values\n",
    ")\n",
    "anime_df_rows = anime_df[anime_df[\"anime_id\"].isin(top_anime_user)]\n",
    "for row in anime_df_rows.itertuples():\n",
    "    print(row.name, \":\", row.genre)\n",
    "\n",
    "print(\"----\" * 8)\n",
    "print(\"Top 10 movie recommendations\")\n",
    "print(\"----\" * 8)\n",
    "recommended_anime = anime_df[anime_df[\"anime_id\"].isin(recommended_anime_ids)]\n",
    "for row in recommended_anime.itertuples():\n",
    "    print(row.name, \":\", row.genre)"
   ]
  }
 ],
 "metadata": {
  "kernelspec": {
   "display_name": "Python 3",
   "language": "python",
   "name": "python3"
  },
  "language_info": {
   "codemirror_mode": {
    "name": "ipython",
    "version": 3
   },
   "file_extension": ".py",
   "mimetype": "text/x-python",
   "name": "python",
   "nbconvert_exporter": "python",
   "pygments_lexer": "ipython3",
   "version": "3.7.12"
  },
  "papermill": {
   "default_parameters": {},
   "duration": 2380.053163,
   "end_time": "2022-08-10T08:58:34.915931",
   "environment_variables": {},
   "exception": null,
   "input_path": "__notebook__.ipynb",
   "output_path": "__notebook__.ipynb",
   "parameters": {},
   "start_time": "2022-08-10T08:18:54.862768",
   "version": "2.3.4"
  }
 },
 "nbformat": 4,
 "nbformat_minor": 5
}
